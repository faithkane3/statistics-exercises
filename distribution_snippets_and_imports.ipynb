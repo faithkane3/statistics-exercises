{
 "cells": [
  {
   "cell_type": "markdown",
   "metadata": {},
   "source": [
    "### IMPORT STATEMENTS"
   ]
  },
  {
   "cell_type": "code",
   "execution_count": null,
   "metadata": {},
   "outputs": [],
   "source": [
    "%matplotlib inline\n",
    "import matplotlib.pyplot as plt\n",
    "import numpy as np\n",
    "from scipy import stats\n",
    "#import viz # curriculum viz example code\n",
    "from env import host, user, password\n",
    "import pandas as pd\n",
    "\n",
    "np.random.seed(123)"
   ]
  },
  {
   "cell_type": "markdown",
   "metadata": {},
   "source": [
    "### NORMAL DISTRIBUTION\n",
    "\n",
    "-it models a continuous random variable where the further away from the mean you are, the less likely the outcome.\n",
    "\n",
    "-commonly referred to as the bell curve\n",
    "\n",
    "-defined by a mean and standard deviation\n",
    "\n",
    "-the Standard Normal Distribution has a mean of 0 and stdev of 1"
   ]
  },
  {
   "cell_type": "code",
   "execution_count": null,
   "metadata": {},
   "outputs": [],
   "source": [
    "mean = \n",
    "stdev = \n",
    "\n",
    "# theoretical\n",
    "my_dist = stats.norm(mean, stdev)\n",
    "my_dist.func()      # func = .pdf() , .pmf() , .cdf() , .ppf() , .sf() , .isf()\n",
    "\n",
    "# example\n",
    "mean = 3\n",
    "stdev = .3\n",
    "grades_dist = stats.norm(mean, stdev)                   # distribution object\n",
    "grades_dist.isf(.05)   # input prob (greater than top 5 %) return gpa value\n",
    "\n",
    "# experiemental python\n",
    "np.random.normal(mean, stdev, size)                     # numpy array \n",
    "\n",
    "# example\n",
    "mean = 3\n",
    "stdev = .3\n",
    "size = 100_000\n",
    "gpa_dist = np.random.normal(mean_gpa, stdev_gpa, size)   \n",
    "top_5_gpa = np.quantile(gpa_dist,.95)   # return gpa cutoff for top 5%\n",
    "top_5_gpa"
   ]
  },
  {
   "cell_type": "markdown",
   "metadata": {},
   "source": [
    "### BINOMIAL DISTRIBUTION\n",
    "\n",
    "-lets us model the number of successes after a number of trials given a certain probabilty of success.\n",
    "\n",
    "-each trial is independent of the others\n",
    "\n",
    "-example: number of heads you would expect to see after a certain number of trials\n"
   ]
  },
  {
   "cell_type": "code",
   "execution_count": null,
   "metadata": {},
   "outputs": [],
   "source": [
    "n_trials =\n",
    "p_success =\n",
    "\n",
    "# theoretical\n",
    "my_dist = stats.binom(n_trials, p_success)               # distribution object\n",
    "my_dist.func()\n",
    "\n",
    "# exmaple\n",
    "n_trials = 60                          # 60 questions\n",
    "p_success = 1/100                      # prob of success\n",
    "\n",
    "corr_answers = stats.binom(60, 1/101)\n",
    "corr_answers.sf(0)                     # prob of getting at least 1 answer correct\n",
    "\n",
    "# experiemental python\n",
    "np.random.binomial(n_trials, p_success, size)           # numpy array\n",
    "\n",
    "# example\n",
    "n_trials = 30\n",
    "p_success = .25\n",
    "size = 100_000\n",
    "(np.random.binomial(n_events, p_success , size)>=97).mean() # prob of 97 or more clicks"
   ]
  },
  {
   "cell_type": "markdown",
   "metadata": {},
   "source": [
    "### POISSON DISTRIBUTION\n",
    "\n",
    "-lets us model a situation where a certain number of events happens over a specified time interval.\n",
    "\n",
    "-the number of events that happens is a discrete measure and tells us the likelihood of a certain number of events occuring over the time period.\n",
    "\n",
    "-assumes the events are independent of each other and of the time since the last event\n",
    "\n",
    "-ex. number of emails sent by a mail server in a day, number of phone calls received by a call center per hour, etc."
   ]
  },
  {
   "cell_type": "code",
   "execution_count": null,
   "metadata": {},
   "outputs": [],
   "source": [
    "mean = \n",
    "\n",
    "# theoretical\n",
    "my_dist = stats.poisson(mean)                            # distribution object\n",
    "my_dist.func()\n",
    "\n",
    "# example\n",
    "mean = 2\n",
    "cars_dist = stats.poisson(2)  # mean cars per hour 2\n",
    "cars_dist.pmf(0)              # prob of 1 or more cars in an hour\n",
    "\n",
    "# experimental python\n",
    "np.random.poisson(mean, n_trials)                        # numpy array\n",
    "\n",
    "# example\n",
    "mean_cars = columns = 2\n",
    "n_trials = nrows = 10_000 \n",
    "\n",
    "cars = np.random.poisson(mean_cars, n_trials)\n",
    "cars\n",
    "\n",
    "(cars == 0).mean()          # prob of no cars coming in an hour"
   ]
  },
  {
   "cell_type": "markdown",
   "metadata": {},
   "source": [
    "### UNIFORM DISTRIBUTION\n",
    "\n",
    "-Can be used to model events where the outcome is discrete.\n",
    "\n",
    "-Each outcome has an equally likely chance of happening."
   ]
  },
  {
   "cell_type": "code",
   "execution_count": null,
   "metadata": {},
   "outputs": [],
   "source": [
    "die_distribution = stats.randint(1, 7)\n",
    "\n",
    "die_distribution.rvs()           # Return a single random value from above dist\n",
    "die_distribution.rvs(5)          # Return 5 random values\n",
    "die_distribution.rvs((5, 5))     # Return a matrix of random values"
   ]
  },
  {
   "cell_type": "markdown",
   "metadata": {},
   "source": [
    "### DISTRIBUTION METHODS"
   ]
  },
  {
   "cell_type": "code",
   "execution_count": null,
   "metadata": {},
   "outputs": [],
   "source": [
    "# Generate random values\n",
    ".rvs()\n",
    "\n",
    "# Probability Mass Function / Probability Density Function\n",
    "=\n",
    ".pmf() - accepts a single value and returns probability of observing exact value\n",
    ".pdf() - accepts a probability and returns exact value with that probability\n",
    "\n",
    "# Cumulative Density Function / Percent Point Function (Quantile Function)\n",
    "<=\n",
    ".cdf() - accepts a single value and returns probability of observing <= value\n",
    ".ppf() - accepts probabilty and returns a single value\n",
    "\n",
    "# Survival Function / Inverse Survival Function\n",
    "## 1 - cdf(5) = sf(5)\n",
    ">\n",
    ".sf() - accepts a single value and returns probability of observing > value\n",
    ".isf() - accepts a probability and returns single value"
   ]
  },
  {
   "cell_type": "markdown",
   "metadata": {},
   "source": [
    "### VISUALIZE"
   ]
  },
  {
   "cell_type": "code",
   "execution_count": null,
   "metadata": {},
   "outputs": [],
   "source": [
    "n = 10_000\n",
    "\n",
    "x = die_distribution.rvs(n)\n",
    "\n",
    "plt.hist(x, bins=range(0, 9), align='left', width=1, edgecolor='black')\n",
    "plt.title(f'Outcome of {n:,} Dice Rolls')"
   ]
  },
  {
   "cell_type": "markdown",
   "metadata": {},
   "source": [
    "### One Sample T-Test\n",
    "\n",
    "-lets us compare the mean for a specific subgroup against the population mean.\n",
    "\n",
    "-lets us compare a categorical and continuous variable by using subgroup and pop means.\n",
    "\n",
    "-Null Hypothesis: there is no difference in the means of our subgroup and the population.\n",
    "\n",
    "-We assume that the continuous variable is normally distributed.\n",
    "\n",
    "-Ex. Are the salaries of the marketing department higher than the company average, Are sales for product A higher when we rn a promo for it, etc."
   ]
  },
  {
   "cell_type": "code",
   "execution_count": null,
   "metadata": {},
   "outputs": [],
   "source": [
    "# pass sequence of values and a float\n",
    "sample_observation_means = (array)\n",
    "popmeans = (float)      # array can be passed but it performs a ttest on every popmean\n",
    "stats.ttest_1samp(sample_observation_means, popmeans)\n",
    "\n",
    "# example\n",
    "lefties = df[df.handedness == 'left']         # Pandas DF of left-handed students only\n",
    "\n",
    "μ = df.exam_score.mean()                      # mean of total population exam scores\n",
    "xbar = lefties.exam_score.mean()              # mean of subgroup (lefties) exam scores\n",
    "t, p = stats.ttest_1samp(lefties.exam_score, df.exam_score.mean())\n",
    "\n",
    "########################################## OR ###########################################\n",
    "# example without arrays\n",
    "office1_mean = 90\n",
    "stdev1 = 15\n",
    "n1 = 40\n",
    "office2_mean = 100\n",
    "stdev2 = 20\n",
    "n2 = 50\n",
    "\n",
    "t = (100 - 90) / (stdev2 / sqrt(n2))\n",
    "print(f\"t-score = {t}\")\n",
    "\n",
    "p = stats.t(n2-1).sf(t) * 2\n",
    "print(f\"p-value = {p}\")"
   ]
  },
  {
   "cell_type": "markdown",
   "metadata": {},
   "source": [
    "### Two Sample T-Test\n",
    "\n",
    "-lets us compare between two different subgroups\n",
    "\n",
    "-Ex. Are the exam scores of those who studied with flashcards the same as those who didn't study with flashcards?"
   ]
  },
  {
   "cell_type": "code",
   "execution_count": null,
   "metadata": {},
   "outputs": [],
   "source": [
    "# pass sequence of values and sequence of values\n",
    "x1 = subgroup1_means = (array)\n",
    "x2 = subgroup2_means = (array)\n",
    "stats.ttest_ind(x1, x2)\n"
   ]
  }
 ],
 "metadata": {
  "kernelspec": {
   "display_name": "Python 3",
   "language": "python",
   "name": "python3"
  },
  "language_info": {
   "codemirror_mode": {
    "name": "ipython",
    "version": 3
   },
   "file_extension": ".py",
   "mimetype": "text/x-python",
   "name": "python",
   "nbconvert_exporter": "python",
   "pygments_lexer": "ipython3",
   "version": "3.7.3"
  }
 },
 "nbformat": 4,
 "nbformat_minor": 2
}
