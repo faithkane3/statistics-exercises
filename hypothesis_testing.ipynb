{
 "cells": [
  {
   "cell_type": "markdown",
   "metadata": {},
   "source": [
    "### Exercises\n",
    "\n",
    "-Do your work for this exercise in a jupyter notebook named hypothesis_testing.ipynb.\n",
    "\n",
    "-For each of the following questions, formulate a null and alternative hypothesis (be as specific as you can be), then give an example of what a true positive, true negative, type I and type II errors would look like.\n",
    "\n",
    "    -Is the website redesign any good?\n",
    "\n",
    "    -Is our television ad driving more sales?\n",
    "\n",
    "    -Has the network latency gone up since we switched internet service providers?"
   ]
  },
  {
   "cell_type": "markdown",
   "metadata": {},
   "source": [
    "##### Notes:\n",
    "Type 1 Error = Sin of Commission (you rejected the H0 when you shouldve left it alone)\n",
    "\n",
    "Type 2 Error = Sin of Omission (you left it alone, when it shouldve been rejected)\n",
    "\n",
    "The Boy Who cried Wolf - Type I and then Type II error\n",
    "The villagers thought something was going on when nothing was going on.\n",
    "Then the villagers thought nothing was going on when something was going on."
   ]
  },
  {
   "cell_type": "markdown",
   "metadata": {},
   "source": [
    "Null Hypothesis:\n",
    "        \n",
    "    The website redesign has had no effect\n",
    "\n",
    "Alternative Hypothesis:\n",
    "\n",
    "    The website redesign has had an effect\n",
    "\n",
    "True Negative: (Correctly accept the Null Hypothesis)\n",
    "        \n",
    "    We correctly fail to reject the Null Hypothesis because our P value is\n",
    "    greater than our alpha, closer to 1, and we posit that the \n",
    "    redesign of the website has had no significant effect.\n",
    "\n",
    "True Positive: (Correctly reject the Null Hypothesis)\n",
    "        \n",
    "    We correctly reject that the redesign of the website had no effect\n",
    "    and posit that the redesign of the website DID have an effect\n",
    "    based on a very low P value or Probablity.\n",
    "\n",
    "Type I Error: (Null hypothesis is True but we reject it)\n",
    "        \n",
    "    We reject the Null Hypothesis based on our sample data positing \n",
    "    that the website redesign had an effect but the Null Hypothesis\n",
    "    was correct. The redesign did not have a significant effect.\n",
    "\n",
    "Type II Error: (Null Hypothesis is False but we don't reject it)\n",
    "        \n",
    "    We accept the Null Hypothesis that the website redesign has\n",
    "    had no effect, but the website redesign has had an effect.\n",
    "    \n",
    "Null Hypothesis:\n",
    "\n",
    "    Our television ad has had no effect on sales\n",
    "\n",
    "Alternative Hypothesis:\n",
    "\n",
    "    Our television ad has had an effect on sales\n",
    "\n",
    "True Negative: \n",
    "\n",
    "    We correctly fail to reject the Null Hypothesis that our tv add had no effect\n",
    "    on sales because our P value was greater than our alpha of .05.\n",
    "\n",
    "True Positive:\n",
    "\n",
    "    We correctly reject the Null Hypothesis that our tv add has had no effect on our sales\n",
    "    because our P value is less than our alpha of .05 meaning that our sample\n",
    "    mean was far enough from our population mean that SOMETHING is happening. There\n",
    "    is an effect evident in our P value.\n",
    "\n",
    "Type I Error:\n",
    "\n",
    "    We incorrectly reject our Null Hypothesis seeing that our P value is less than \n",
    "    our alpha of .05 and believe that or tv ad is having an effect on our sales. \n",
    "    The Null Hypothesis actually is correct which means that the ad is not having \n",
    "    a significant effect on our sales.\n",
    "\n",
    "Type II Error:\n",
    "\n",
    "    We incorrectly fail to reject our Null Hypothesis believing that our tv ad\n",
    "    is not significantly effecting our sales, but our ad IS significantly effecting\n",
    "    our sales. We may have had poor or skewed data that showed our P value greater\n",
    "    than or alpha leading us to fail to reject the Null Hypothesis."
   ]
  },
  {
   "cell_type": "markdown",
   "metadata": {},
   "source": [
    "-Null Hypothesis:\n",
    "    \n",
    "    Switching internet service providers has had no effect on network latency\n",
    "\n",
    "-Alternative Hypothesis:\n",
    "    \n",
    "    Switching internet service providers has had an effect on our network latency\n",
    "\n",
    "-True Positive:\n",
    "    \n",
    "    We correctly fail to reject our Null Hypothesis that switching our internet service\n",
    "    provider has had no effect on our network latency. We saw that our P value was\n",
    "    greater than our alpha meaning that it is reasonable that our sample mean could\n",
    "    fall within the same noraml distribution as our population mean.\n",
    "\n",
    "-True Negative:\n",
    "    \n",
    "    We correctly reject our Null Hypothesis that switching our internet service provider\n",
    "    has had no effect on our network latency. We saw that our P value was less than our\n",
    "    alpha meaning that something is happening returning a sample mean that falls \n",
    "    outside of the Normal distribution of the population.\n",
    "\n",
    "-Type I Error:\n",
    "    \n",
    "    We incorrectly reject our Null Hypothesis believing that switching our ISP IS\n",
    "    having an effect on our network latency. There may be something else causing\n",
    "    our P value to return lower than our alpha, but it is not due to switching out ISP.\n",
    "\n",
    "-Type II Error:\n",
    "        \n",
    "    We incorrectly fail to reject our Null Hypothesis believing that switching or ISP\n",
    "    is not effecting our network latency when the switch actually IS effecting our network."
   ]
  },
  {
   "cell_type": "markdown",
   "metadata": {},
   "source": [
    "### Exercises Part II\n"
   ]
  },
  {
   "cell_type": "code",
   "execution_count": 7,
   "metadata": {},
   "outputs": [],
   "source": [
    "from math import sqrt\n",
    "from scipy import stats\n",
    "from pydataset import data\n",
    "%matplotlib inline\n",
    "import matplotlib.pyplot as plt\n",
    "import numpy as np\n",
    "import pandas as pd\n",
    "#import viz # curriculum visualization examples\n",
    "\n",
    "# df = pd.read_csv('data/exam_scores.csv')\n",
    "# df.study_strategy.fillna('None', inplace=True)"
   ]
  },
  {
   "cell_type": "markdown",
   "metadata": {},
   "source": [
    "    -Ace Realty wants to determine whether the average time it takes to sell homes is different for its two offices. A sample of 40 sales from office #1 revealed a mean of 90 days and a standard deviation of 15 days. A sample of 50 sales from office #2 revealed a mean of 100 days and a standard deviation of 20 days. Use a .05 level of significance."
   ]
  },
  {
   "cell_type": "code",
   "execution_count": 103,
   "metadata": {},
   "outputs": [
    {
     "name": "stdout",
     "output_type": "stream",
     "text": [
      "t-score = 3.5355339059327378\n",
      "p-value = 0.0009000029669488137\n"
     ]
    }
   ],
   "source": [
    "# t-score 3.536 and P-value .0009\n",
    "# I reject the Null Hypothesis based on these results.\n",
    "office1_mean = 90\n",
    "stdev1 = 15\n",
    "n1 = 40\n",
    "office2_mean = 100\n",
    "stdev2 = 20\n",
    "n2 = 50\n",
    "\n",
    "t = (100 - 90) / (stdev2 / sqrt(n2))\n",
    "print(f\"t-score = {t}\")\n",
    "\n",
    "p = stats.t(n2-1).sf(t) * 2\n",
    "print(f\"p-value = {p}\")"
   ]
  },
  {
   "cell_type": "markdown",
   "metadata": {},
   "source": [
    "-Load the mpg dataset and use it to answer the following questions:\n",
    "\n",
    "    -Is there a difference in fuel-efficiency in cars from 2008 vs 1999?\n",
    "\n",
    "    -Are compact cars more fuel-efficient than the average car?\n",
    "\n",
    "    -Do manual cars get better gas mileage than automatic cars?"
   ]
  },
  {
   "cell_type": "code",
   "execution_count": 8,
   "metadata": {},
   "outputs": [
    {
     "name": "stdout",
     "output_type": "stream",
     "text": [
      "mpg\n",
      "\n",
      "PyDataset Documentation (adopted from R Documentation. The displayed examples are in R)\n",
      "\n",
      "## Fuel economy data from 1999 and 2008 for 38 popular models of car\n",
      "\n",
      "### Description\n",
      "\n",
      "This dataset contains a subset of the fuel economy data that the EPA makes\n",
      "available on http://fueleconomy.gov. It contains only models which had a new\n",
      "release every year between 1999 and 2008 - this was used as a proxy for the\n",
      "popularity of the car.\n",
      "\n",
      "### Usage\n",
      "\n",
      "    data(mpg)\n",
      "\n",
      "### Format\n",
      "\n",
      "A data frame with 234 rows and 11 variables\n",
      "\n",
      "### Details\n",
      "\n",
      "  * manufacturer. \n",
      "\n",
      "  * model. \n",
      "\n",
      "  * displ. engine displacement, in litres \n",
      "\n",
      "  * year. \n",
      "\n",
      "  * cyl. number of cylinders \n",
      "\n",
      "  * trans. type of transmission \n",
      "\n",
      "  * drv. f = front-wheel drive, r = rear wheel drive, 4 = 4wd \n",
      "\n",
      "  * cty. city miles per gallon \n",
      "\n",
      "  * hwy. highway miles per gallon \n",
      "\n",
      "  * fl. \n",
      "\n",
      "  * class. \n",
      "\n",
      "\n"
     ]
    }
   ],
   "source": [
    "mpg = data(\"mpg\")\n",
    "data(\"mpg\", show_doc=True)"
   ]
  },
  {
   "cell_type": "code",
   "execution_count": 63,
   "metadata": {},
   "outputs": [
    {
     "data": {
      "text/html": [
       "<div>\n",
       "<style scoped>\n",
       "    .dataframe tbody tr th:only-of-type {\n",
       "        vertical-align: middle;\n",
       "    }\n",
       "\n",
       "    .dataframe tbody tr th {\n",
       "        vertical-align: top;\n",
       "    }\n",
       "\n",
       "    .dataframe thead th {\n",
       "        text-align: right;\n",
       "    }\n",
       "</style>\n",
       "<table border=\"1\" class=\"dataframe\">\n",
       "  <thead>\n",
       "    <tr style=\"text-align: right;\">\n",
       "      <th></th>\n",
       "      <th>manufacturer</th>\n",
       "      <th>model</th>\n",
       "      <th>displ</th>\n",
       "      <th>year</th>\n",
       "      <th>cyl</th>\n",
       "      <th>trans</th>\n",
       "      <th>drv</th>\n",
       "      <th>cty</th>\n",
       "      <th>hwy</th>\n",
       "      <th>fl</th>\n",
       "      <th>class</th>\n",
       "      <th>avg_mileage</th>\n",
       "    </tr>\n",
       "  </thead>\n",
       "  <tbody>\n",
       "    <tr>\n",
       "      <th>1</th>\n",
       "      <td>audi</td>\n",
       "      <td>a4</td>\n",
       "      <td>1.8</td>\n",
       "      <td>1999</td>\n",
       "      <td>4</td>\n",
       "      <td>auto(l5)</td>\n",
       "      <td>f</td>\n",
       "      <td>18</td>\n",
       "      <td>29</td>\n",
       "      <td>p</td>\n",
       "      <td>compact</td>\n",
       "      <td>23.5</td>\n",
       "    </tr>\n",
       "    <tr>\n",
       "      <th>2</th>\n",
       "      <td>audi</td>\n",
       "      <td>a4</td>\n",
       "      <td>1.8</td>\n",
       "      <td>1999</td>\n",
       "      <td>4</td>\n",
       "      <td>manual(m5)</td>\n",
       "      <td>f</td>\n",
       "      <td>21</td>\n",
       "      <td>29</td>\n",
       "      <td>p</td>\n",
       "      <td>compact</td>\n",
       "      <td>25.0</td>\n",
       "    </tr>\n",
       "    <tr>\n",
       "      <th>3</th>\n",
       "      <td>audi</td>\n",
       "      <td>a4</td>\n",
       "      <td>2.0</td>\n",
       "      <td>2008</td>\n",
       "      <td>4</td>\n",
       "      <td>manual(m6)</td>\n",
       "      <td>f</td>\n",
       "      <td>20</td>\n",
       "      <td>31</td>\n",
       "      <td>p</td>\n",
       "      <td>compact</td>\n",
       "      <td>25.5</td>\n",
       "    </tr>\n",
       "    <tr>\n",
       "      <th>4</th>\n",
       "      <td>audi</td>\n",
       "      <td>a4</td>\n",
       "      <td>2.0</td>\n",
       "      <td>2008</td>\n",
       "      <td>4</td>\n",
       "      <td>auto(av)</td>\n",
       "      <td>f</td>\n",
       "      <td>21</td>\n",
       "      <td>30</td>\n",
       "      <td>p</td>\n",
       "      <td>compact</td>\n",
       "      <td>25.5</td>\n",
       "    </tr>\n",
       "    <tr>\n",
       "      <th>5</th>\n",
       "      <td>audi</td>\n",
       "      <td>a4</td>\n",
       "      <td>2.8</td>\n",
       "      <td>1999</td>\n",
       "      <td>6</td>\n",
       "      <td>auto(l5)</td>\n",
       "      <td>f</td>\n",
       "      <td>16</td>\n",
       "      <td>26</td>\n",
       "      <td>p</td>\n",
       "      <td>compact</td>\n",
       "      <td>21.0</td>\n",
       "    </tr>\n",
       "  </tbody>\n",
       "</table>\n",
       "</div>"
      ],
      "text/plain": [
       "  manufacturer model  displ  year  cyl       trans drv  cty  hwy fl    class  \\\n",
       "1         audi    a4    1.8  1999    4    auto(l5)   f   18   29  p  compact   \n",
       "2         audi    a4    1.8  1999    4  manual(m5)   f   21   29  p  compact   \n",
       "3         audi    a4    2.0  2008    4  manual(m6)   f   20   31  p  compact   \n",
       "4         audi    a4    2.0  2008    4    auto(av)   f   21   30  p  compact   \n",
       "5         audi    a4    2.8  1999    6    auto(l5)   f   16   26  p  compact   \n",
       "\n",
       "   avg_mileage  \n",
       "1         23.5  \n",
       "2         25.0  \n",
       "3         25.5  \n",
       "4         25.5  \n",
       "5         21.0  "
      ]
     },
     "execution_count": 63,
     "metadata": {},
     "output_type": "execute_result"
    }
   ],
   "source": [
    "mpg.head()"
   ]
  },
  {
   "cell_type": "markdown",
   "metadata": {},
   "source": [
    "#### 1999 car avg_mileage vs 2008 car avg_mileage\n",
    "\n",
    "-Null Hypothesis:\n",
    "\n",
    "    There is no significant difference in fuel efficiency in 1999 and 2008 cars.\n",
    "    \n",
    "-T-score = .22 and P-value = .83\n",
    "\n",
    "    I fail to reject the Null Hypothesis based on these results."
   ]
  },
  {
   "cell_type": "code",
   "execution_count": 66,
   "metadata": {},
   "outputs": [],
   "source": [
    "# Pandas Series with descending avg_mileage of 1999 cars\n",
    "a = mpg[mpg[\"year\"] == 1999].avg_mileage\n",
    "\n",
    "# a_df = a.reset_index()\n",
    "# a_df.sort_values(by=\"index\", ascending=False)"
   ]
  },
  {
   "cell_type": "code",
   "execution_count": 67,
   "metadata": {},
   "outputs": [],
   "source": [
    "# Pandas Series with descending avg_mileage of 2008 cars\n",
    "b = mpg[mpg[\"year\"] == 2008].avg_mileage\n",
    "\n",
    "# b_df = b.reset_index()\n",
    "# b_df.sort_values(by=\"index\", ascending=False)"
   ]
  },
  {
   "cell_type": "code",
   "execution_count": 68,
   "metadata": {},
   "outputs": [
    {
     "data": {
      "text/plain": [
       "Ttest_indResult(statistic=0.21960177245940962, pvalue=0.8263744040323578)"
      ]
     },
     "execution_count": 68,
     "metadata": {},
     "output_type": "execute_result"
    }
   ],
   "source": [
    "# T-score is .22 and the P-value is .83\n",
    "# I fail to reject the Null Hypothesis that 1999 cars had a significant difference\n",
    "# in gas mileage.\n",
    "stats.ttest_ind(a, b)"
   ]
  },
  {
   "cell_type": "code",
   "execution_count": 74,
   "metadata": {},
   "outputs": [
    {
     "data": {
      "text/plain": [
       "20.22222222222222"
      ]
     },
     "execution_count": 74,
     "metadata": {},
     "output_type": "execute_result"
    }
   ],
   "source": [
    "# create avg_mileage column and calculate average gas mileage for 1999 cars\n",
    "mpg[\"avg_mileage\"] = (mpg[\"cty\"] + mpg[\"hwy\"]) / 2\n",
    "avg_mileage_1999 = (mpg[mpg[\"year\"] == 1999].avg_mileage).mean()\n",
    "avg_mileage_1999"
   ]
  },
  {
   "cell_type": "code",
   "execution_count": 75,
   "metadata": {},
   "outputs": [
    {
     "data": {
      "text/plain": [
       "20.076923076923077"
      ]
     },
     "execution_count": 75,
     "metadata": {},
     "output_type": "execute_result"
    }
   ],
   "source": [
    "# calculate average gas mileage for 2008 cars\n",
    "avg_mileage_2008 = (mpg[mpg[\"year\"] == 2008].avg_mileage).mean()\n",
    "avg_mileage_2008"
   ]
  },
  {
   "cell_type": "markdown",
   "metadata": {},
   "source": [
    "#### Compact car avg_mileage vs. Other car avg_mileage\n",
    "\n",
    "-Null Hypothesis:\n",
    "    \n",
    "    Car class has no significant impact on fuel efficiency.\n",
    "    \n",
    "-T-score = 6.73 and P-value = 1.31e-10\n",
    "\n",
    "    I reject the Null Hypothesis based on these results."
   ]
  },
  {
   "cell_type": "code",
   "execution_count": 70,
   "metadata": {},
   "outputs": [
    {
     "data": {
      "text/plain": [
       "Ttest_indResult(statistic=6.731177612837954, pvalue=1.3059121585018135e-10)"
      ]
     },
     "execution_count": 70,
     "metadata": {},
     "output_type": "execute_result"
    }
   ],
   "source": [
    "# T-score = 6.73 and the P-value = 1.31e-10\n",
    "# I reject the Null Hypothesis that class has no significant impact on gas mileage\n",
    "compact_mileage_series = mpg[mpg[\"class\"] == \"compact\"].avg_mileage\n",
    "other_mileage_series = mpg[mpg[\"class\"] != \"compact\"].avg_mileage\n",
    "stats.ttest_ind(compact_mileage_series, other_mileage_series)"
   ]
  },
  {
   "cell_type": "code",
   "execution_count": 72,
   "metadata": {},
   "outputs": [
    {
     "data": {
      "text/plain": [
       "24.21276595744681"
      ]
     },
     "execution_count": 72,
     "metadata": {},
     "output_type": "execute_result"
    }
   ],
   "source": [
    "compact_avg_mileage = mpg[mpg[\"class\"] == \"compact\"].avg_mileage.mean()\n",
    "compact_avg_mileage"
   ]
  },
  {
   "cell_type": "code",
   "execution_count": 73,
   "metadata": {},
   "outputs": [
    {
     "data": {
      "text/plain": [
       "19.128342245989305"
      ]
     },
     "execution_count": 73,
     "metadata": {},
     "output_type": "execute_result"
    }
   ],
   "source": [
    "other_avg_mileage = mpg[mpg[\"class\"] != \"compact\"].avg_mileage.mean()\n",
    "other_avg_mileage"
   ]
  },
  {
   "cell_type": "markdown",
   "metadata": {},
   "source": [
    "#### Manual car avg_mileage vs. automatic car avg_mileage\n",
    "\n",
    "-Null Hypothesis:\n",
    "    \n",
    "    Car transimission type has no significant impact on fuel efficiency.\n",
    "\n",
    "-T-score = 4.59 and P-value = 7.15e-06\n",
    "\n",
    "    I reject the Null Hypothesis based on these results."
   ]
  },
  {
   "cell_type": "code",
   "execution_count": 83,
   "metadata": {},
   "outputs": [
    {
     "data": {
      "text/plain": [
       "Ttest_indResult(statistic=4.593437735750014, pvalue=7.154374401145683e-06)"
      ]
     },
     "execution_count": 83,
     "metadata": {},
     "output_type": "execute_result"
    }
   ],
   "source": [
    "manual_mileage_series = mpg[mpg[\"trans\"].str.contains(\"man\")].avg_mileage\n",
    "auto_mileage_series = mpg[mpg[\"trans\"].str.contains(\"auto\")].avg_mileage\n",
    "stats.ttest_ind(manual_mileage_series, auto_mileage_series)"
   ]
  },
  {
   "cell_type": "code",
   "execution_count": 87,
   "metadata": {},
   "outputs": [
    {
     "data": {
      "text/plain": [
       "22.227272727272727"
      ]
     },
     "execution_count": 87,
     "metadata": {},
     "output_type": "execute_result"
    }
   ],
   "source": [
    "manual_avg_mileage = mpg[mpg[\"trans\"].str.contains(\"man\")].avg_mileage.mean()\n",
    "manual_avg_mileage"
   ]
  },
  {
   "cell_type": "code",
   "execution_count": 88,
   "metadata": {},
   "outputs": [
    {
     "data": {
      "text/plain": [
       "19.130573248407643"
      ]
     },
     "execution_count": 88,
     "metadata": {},
     "output_type": "execute_result"
    }
   ],
   "source": [
    "auto_avg_mileage = mpg[mpg[\"trans\"].str.contains(\"auto\")].avg_mileage.mean()\n",
    "auto_avg_mileage"
   ]
  }
 ],
 "metadata": {
  "kernelspec": {
   "display_name": "Python 3",
   "language": "python",
   "name": "python3"
  },
  "language_info": {
   "codemirror_mode": {
    "name": "ipython",
    "version": 3
   },
   "file_extension": ".py",
   "mimetype": "text/x-python",
   "name": "python",
   "nbconvert_exporter": "python",
   "pygments_lexer": "ipython3",
   "version": "3.7.3"
  }
 },
 "nbformat": 4,
 "nbformat_minor": 2
}
