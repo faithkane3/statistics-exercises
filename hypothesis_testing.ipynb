{
 "cells": [
  {
   "cell_type": "markdown",
   "metadata": {},
   "source": [
    "### Exercises\n",
    "\n",
    "-Do your work for this exercise in a jupyter notebook named hypothesis_testing.ipynb.\n",
    "\n",
    "-For each of the following questions, formulate a null and alternative hypothesis (be as specific as you can be), then give an example of what a true positive, true negative, type I and type II errors would look like.\n",
    "\n",
    "    -Is the website redesign any good?\n",
    "\n",
    "    -Is our television ad driving more sales?\n",
    "\n",
    "    -Has the network latency gone up since we switched internet service providers?"
   ]
  },
  {
   "cell_type": "markdown",
   "metadata": {},
   "source": [
    "##### Notes:\n",
    "Type 1 Error = Sin of Commission (you rejected the H0 when you shouldve left it alone)\n",
    "\n",
    "Type 2 Error = Sin of Omission (you left it alone, when it shouldve been rejected)\n",
    "\n",
    "The Boy Who cried Wolf - Type I and then Type II error\n",
    "The villagers thought something was going on when nothing was going on.\n",
    "Then the villagers thought nothing was going on when something was going on."
   ]
  },
  {
   "cell_type": "markdown",
   "metadata": {},
   "source": [
    "Null Hypothesis:\n",
    "        \n",
    "    The website redesign has had no effect\n",
    "\n",
    "Alternative Hypothesis:\n",
    "\n",
    "    The website redesign has had an effect\n",
    "\n",
    "True Negative: (Correctly accept the Null Hypothesis)\n",
    "        \n",
    "    We correctly fail to reject the Null Hypothesis because our P value is\n",
    "    greater than our alpha, closer to 1, and we posit that the \n",
    "    redesign of the website has had no significant effect.\n",
    "\n",
    "True Positive: (Correctly reject the Null Hypothesis)\n",
    "        \n",
    "    We correctly reject that the redesign of the website had no effect\n",
    "    and posit that the redesign of the website DID have an effect\n",
    "    based on a very low P value or Probablity.\n",
    "\n",
    "Type I Error: (Null hypothesis is True but we reject it)\n",
    "        \n",
    "    We reject the Null Hypothesis based on our sample data positing \n",
    "    that the website redesign had an effect but the Null Hypothesis\n",
    "    was correct. The redesign did not have a significant effect.\n",
    "\n",
    "Type II Error: (Null Hypothesis is False but we don't reject it)\n",
    "        \n",
    "    We accept the Null Hypothesis that the website redesign has\n",
    "    had no effect, but the website redesign has had an effect.\n",
    "    \n",
    "Null Hypothesis:\n",
    "\n",
    "    Our television ad has had no effect on sales\n",
    "\n",
    "Alternative Hypothesis:\n",
    "\n",
    "    Our television ad has had an effect on sales\n",
    "\n",
    "True Negative: \n",
    "\n",
    "    We correctly fail to reject the Null Hypothesis that our tv add had no effect\n",
    "    on sales because our P value was greater than our alpha of .05.\n",
    "\n",
    "True Positive:\n",
    "\n",
    "    We correctly reject the Null Hypothesis that our tv add has had no effect on our sales\n",
    "    because our P value is less than our alpha of .05 meaning that our sample\n",
    "    mean was far enough from our population mean that SOMETHING is happening. There\n",
    "    is an effect evident in our P value.\n",
    "\n",
    "Type I Error:\n",
    "\n",
    "    We incorrectly reject our Null Hypothesis seeing that our P value is less than \n",
    "    our alpha of .05 and believe that or tv ad is having an effect on our sales. \n",
    "    The Null Hypothesis actually is correct which means that the ad is not having \n",
    "    a significant effect on our sales.\n",
    "\n",
    "Type II Error:\n",
    "\n",
    "    We incorrectly fail to reject our Null Hypothesis believing that our tv ad\n",
    "    is not significantly effecting our sales, but our ad IS significantly effecting\n",
    "    our sales. We may have had poor or skewed data that showed our P value greater\n",
    "    than or alpha leading us to fail to reject the Null Hypothesis."
   ]
  },
  {
   "cell_type": "markdown",
   "metadata": {},
   "source": [
    "-Null Hypothesis:\n",
    "    \n",
    "    Switching internet service providers has had no effect on network latency\n",
    "\n",
    "-Alternative Hypothesis:\n",
    "    \n",
    "    Switching internet service providers has had an effect on our network latency\n",
    "\n",
    "-True Positive:\n",
    "    \n",
    "    We correctly fail to reject our Null Hypothesis that switching our internet service\n",
    "    provider has had no effect on our network latency. We saw that our P value was\n",
    "    greater than our alpha meaning that it is reasonable that our sample mean could\n",
    "    fall within the same noraml distribution as our population mean.\n",
    "\n",
    "-True Negative:\n",
    "    \n",
    "    We correctly reject our Null Hypothesis that switching our internet service provider\n",
    "    has had no effect on our network latency. We saw that our P value was less than our\n",
    "    alpha meaning that something is happening returning a sample mean that falls \n",
    "    outside of the Normal distribution of the population.\n",
    "\n",
    "-Type I Error:\n",
    "    \n",
    "    We incorrectly reject our Null Hypothesis believing that switching our ISP IS\n",
    "    having an effect on our network latency. There may be something else causing\n",
    "    our P value to return lower than our alpha, but it is not due to switching out ISP.\n",
    "\n",
    "-Type II Error:\n",
    "        \n",
    "    We incorrectly fail to reject our Null Hypothesis believing that switching or ISP\n",
    "    is not effecting our network latency when the switch actually IS effecting our network."
   ]
  },
  {
   "cell_type": "markdown",
   "metadata": {},
   "source": [
    "### Exercises Part II\n"
   ]
  },
  {
   "cell_type": "code",
   "execution_count": 1,
   "metadata": {},
   "outputs": [],
   "source": [
    "from math import sqrt\n",
    "from scipy import stats\n",
    "from pydataset import data\n",
    "%matplotlib inline\n",
    "import matplotlib.pyplot as plt\n",
    "import numpy as np\n",
    "import pandas as pd\n",
    "from env import host, user, password\n",
    "#import viz # curriculum visualization examples\n",
    "\n",
    "df = pd.read_csv('exam_scores.csv')\n",
    "df.study_strategy.fillna('None', inplace=True)"
   ]
  },
  {
   "cell_type": "markdown",
   "metadata": {},
   "source": [
    "    -Ace Realty wants to determine whether the average time it takes to sell homes is different for its two offices. A sample of 40 sales from office #1 revealed a mean of 90 days and a standard deviation of 15 days. A sample of 50 sales from office #2 revealed a mean of 100 days and a standard deviation of 20 days. Use a .05 level of significance."
   ]
  },
  {
   "cell_type": "code",
   "execution_count": 2,
   "metadata": {},
   "outputs": [
    {
     "name": "stdout",
     "output_type": "stream",
     "text": [
      "t-score = 3.5355339059327378\n",
      "p-value = 0.0009000029669488137\n"
     ]
    }
   ],
   "source": [
    "# t-score 3.536 and P-value .0009\n",
    "# I reject the Null Hypothesis based on these results.\n",
    "office1_mean = 90\n",
    "stdev1 = 15\n",
    "n1 = 40\n",
    "office2_mean = 100\n",
    "stdev2 = 20\n",
    "n2 = 50\n",
    "\n",
    "t = (100 - 90) / (stdev2 / sqrt(n2))\n",
    "print(f\"t-score = {t}\")\n",
    "\n",
    "p = stats.t(n2-1).sf(t) * 2\n",
    "print(f\"p-value = {p}\")"
   ]
  },
  {
   "cell_type": "markdown",
   "metadata": {},
   "source": [
    "-Load the mpg dataset and use it to answer the following questions:\n",
    "\n",
    "    -Is there a difference in fuel-efficiency in cars from 2008 vs 1999?\n",
    "\n",
    "    -Are compact cars more fuel-efficient than the average car?\n",
    "\n",
    "    -Do manual cars get better gas mileage than automatic cars?"
   ]
  },
  {
   "cell_type": "code",
   "execution_count": 3,
   "metadata": {},
   "outputs": [
    {
     "name": "stdout",
     "output_type": "stream",
     "text": [
      "mpg\n",
      "\n",
      "PyDataset Documentation (adopted from R Documentation. The displayed examples are in R)\n",
      "\n",
      "## Fuel economy data from 1999 and 2008 for 38 popular models of car\n",
      "\n",
      "### Description\n",
      "\n",
      "This dataset contains a subset of the fuel economy data that the EPA makes\n",
      "available on http://fueleconomy.gov. It contains only models which had a new\n",
      "release every year between 1999 and 2008 - this was used as a proxy for the\n",
      "popularity of the car.\n",
      "\n",
      "### Usage\n",
      "\n",
      "    data(mpg)\n",
      "\n",
      "### Format\n",
      "\n",
      "A data frame with 234 rows and 11 variables\n",
      "\n",
      "### Details\n",
      "\n",
      "  * manufacturer. \n",
      "\n",
      "  * model. \n",
      "\n",
      "  * displ. engine displacement, in litres \n",
      "\n",
      "  * year. \n",
      "\n",
      "  * cyl. number of cylinders \n",
      "\n",
      "  * trans. type of transmission \n",
      "\n",
      "  * drv. f = front-wheel drive, r = rear wheel drive, 4 = 4wd \n",
      "\n",
      "  * cty. city miles per gallon \n",
      "\n",
      "  * hwy. highway miles per gallon \n",
      "\n",
      "  * fl. \n",
      "\n",
      "  * class. \n",
      "\n",
      "\n"
     ]
    }
   ],
   "source": [
    "mpg = data(\"mpg\")\n",
    "data(\"mpg\", show_doc=True)"
   ]
  },
  {
   "cell_type": "code",
   "execution_count": 4,
   "metadata": {},
   "outputs": [
    {
     "data": {
      "text/html": [
       "<div>\n",
       "<style scoped>\n",
       "    .dataframe tbody tr th:only-of-type {\n",
       "        vertical-align: middle;\n",
       "    }\n",
       "\n",
       "    .dataframe tbody tr th {\n",
       "        vertical-align: top;\n",
       "    }\n",
       "\n",
       "    .dataframe thead th {\n",
       "        text-align: right;\n",
       "    }\n",
       "</style>\n",
       "<table border=\"1\" class=\"dataframe\">\n",
       "  <thead>\n",
       "    <tr style=\"text-align: right;\">\n",
       "      <th></th>\n",
       "      <th>manufacturer</th>\n",
       "      <th>model</th>\n",
       "      <th>displ</th>\n",
       "      <th>year</th>\n",
       "      <th>cyl</th>\n",
       "      <th>trans</th>\n",
       "      <th>drv</th>\n",
       "      <th>cty</th>\n",
       "      <th>hwy</th>\n",
       "      <th>fl</th>\n",
       "      <th>class</th>\n",
       "    </tr>\n",
       "  </thead>\n",
       "  <tbody>\n",
       "    <tr>\n",
       "      <th>1</th>\n",
       "      <td>audi</td>\n",
       "      <td>a4</td>\n",
       "      <td>1.8</td>\n",
       "      <td>1999</td>\n",
       "      <td>4</td>\n",
       "      <td>auto(l5)</td>\n",
       "      <td>f</td>\n",
       "      <td>18</td>\n",
       "      <td>29</td>\n",
       "      <td>p</td>\n",
       "      <td>compact</td>\n",
       "    </tr>\n",
       "    <tr>\n",
       "      <th>2</th>\n",
       "      <td>audi</td>\n",
       "      <td>a4</td>\n",
       "      <td>1.8</td>\n",
       "      <td>1999</td>\n",
       "      <td>4</td>\n",
       "      <td>manual(m5)</td>\n",
       "      <td>f</td>\n",
       "      <td>21</td>\n",
       "      <td>29</td>\n",
       "      <td>p</td>\n",
       "      <td>compact</td>\n",
       "    </tr>\n",
       "    <tr>\n",
       "      <th>3</th>\n",
       "      <td>audi</td>\n",
       "      <td>a4</td>\n",
       "      <td>2.0</td>\n",
       "      <td>2008</td>\n",
       "      <td>4</td>\n",
       "      <td>manual(m6)</td>\n",
       "      <td>f</td>\n",
       "      <td>20</td>\n",
       "      <td>31</td>\n",
       "      <td>p</td>\n",
       "      <td>compact</td>\n",
       "    </tr>\n",
       "    <tr>\n",
       "      <th>4</th>\n",
       "      <td>audi</td>\n",
       "      <td>a4</td>\n",
       "      <td>2.0</td>\n",
       "      <td>2008</td>\n",
       "      <td>4</td>\n",
       "      <td>auto(av)</td>\n",
       "      <td>f</td>\n",
       "      <td>21</td>\n",
       "      <td>30</td>\n",
       "      <td>p</td>\n",
       "      <td>compact</td>\n",
       "    </tr>\n",
       "    <tr>\n",
       "      <th>5</th>\n",
       "      <td>audi</td>\n",
       "      <td>a4</td>\n",
       "      <td>2.8</td>\n",
       "      <td>1999</td>\n",
       "      <td>6</td>\n",
       "      <td>auto(l5)</td>\n",
       "      <td>f</td>\n",
       "      <td>16</td>\n",
       "      <td>26</td>\n",
       "      <td>p</td>\n",
       "      <td>compact</td>\n",
       "    </tr>\n",
       "  </tbody>\n",
       "</table>\n",
       "</div>"
      ],
      "text/plain": [
       "  manufacturer model  displ  year  cyl       trans drv  cty  hwy fl    class\n",
       "1         audi    a4    1.8  1999    4    auto(l5)   f   18   29  p  compact\n",
       "2         audi    a4    1.8  1999    4  manual(m5)   f   21   29  p  compact\n",
       "3         audi    a4    2.0  2008    4  manual(m6)   f   20   31  p  compact\n",
       "4         audi    a4    2.0  2008    4    auto(av)   f   21   30  p  compact\n",
       "5         audi    a4    2.8  1999    6    auto(l5)   f   16   26  p  compact"
      ]
     },
     "execution_count": 4,
     "metadata": {},
     "output_type": "execute_result"
    }
   ],
   "source": [
    "mpg.head()"
   ]
  },
  {
   "cell_type": "markdown",
   "metadata": {},
   "source": [
    "#### 1999 car avg_mileage vs 2008 car avg_mileage\n",
    "\n",
    "-Null Hypothesis:\n",
    "\n",
    "    There is no significant difference in fuel efficiency in 1999 and 2008 cars.\n",
    "    \n",
    "-T-score = .22 and P-value = .83\n",
    "\n",
    "    I fail to reject the Null Hypothesis based on these results."
   ]
  },
  {
   "cell_type": "code",
   "execution_count": 5,
   "metadata": {},
   "outputs": [
    {
     "data": {
      "text/plain": [
       "20.22222222222222"
      ]
     },
     "execution_count": 5,
     "metadata": {},
     "output_type": "execute_result"
    }
   ],
   "source": [
    "# create avg_mileage column and calculate average gas mileage for 1999 cars\n",
    "mpg[\"avg_mileage\"] = (mpg[\"cty\"] + mpg[\"hwy\"]) / 2\n",
    "avg_mileage_1999 = (mpg[mpg[\"year\"] == 1999].avg_mileage).mean()\n",
    "avg_mileage_1999"
   ]
  },
  {
   "cell_type": "code",
   "execution_count": 6,
   "metadata": {},
   "outputs": [
    {
     "data": {
      "text/plain": [
       "20.076923076923077"
      ]
     },
     "execution_count": 6,
     "metadata": {},
     "output_type": "execute_result"
    }
   ],
   "source": [
    "# calculate average gas mileage for 2008 cars\n",
    "avg_mileage_2008 = (mpg[mpg[\"year\"] == 2008].avg_mileage).mean()\n",
    "avg_mileage_2008"
   ]
  },
  {
   "cell_type": "code",
   "execution_count": 7,
   "metadata": {},
   "outputs": [],
   "source": [
    "# Pandas Series with descending avg_mileage of 1999 cars\n",
    "a = mpg[mpg[\"year\"] == 1999].avg_mileage\n",
    "\n",
    "# a_df = a.reset_index()\n",
    "# a_df.sort_values(by=\"index\", ascending=False)"
   ]
  },
  {
   "cell_type": "code",
   "execution_count": 8,
   "metadata": {},
   "outputs": [],
   "source": [
    "# Pandas Series with descending avg_mileage of 2008 cars\n",
    "b = mpg[mpg[\"year\"] == 2008].avg_mileage\n",
    "\n",
    "# b_df = b.reset_index()\n",
    "# b_df.sort_values(by=\"index\", ascending=False)"
   ]
  },
  {
   "cell_type": "code",
   "execution_count": 9,
   "metadata": {},
   "outputs": [
    {
     "data": {
      "text/plain": [
       "Ttest_indResult(statistic=0.21960177245940962, pvalue=0.8263744040323578)"
      ]
     },
     "execution_count": 9,
     "metadata": {},
     "output_type": "execute_result"
    }
   ],
   "source": [
    "# T-score is .22 and the P-value is .83\n",
    "# I fail to reject the Null Hypothesis that 1999 cars had a significant difference\n",
    "# in gas mileage.\n",
    "stats.ttest_ind(a, b)"
   ]
  },
  {
   "cell_type": "markdown",
   "metadata": {},
   "source": [
    "#### Compact car avg_mileage vs. Other car avg_mileage\n",
    "\n",
    "-Null Hypothesis:\n",
    "    \n",
    "    Car class has no significant impact on fuel efficiency.\n",
    "    \n",
    "-T-score = 6.73 and P-value = 1.31e-10\n",
    "\n",
    "    I reject the Null Hypothesis based on these results."
   ]
  },
  {
   "cell_type": "code",
   "execution_count": 10,
   "metadata": {},
   "outputs": [
    {
     "data": {
      "text/plain": [
       "Ttest_indResult(statistic=6.731177612837954, pvalue=1.3059121585018135e-10)"
      ]
     },
     "execution_count": 10,
     "metadata": {},
     "output_type": "execute_result"
    }
   ],
   "source": [
    "# T-score = 6.73 and the P-value = 1.31e-10\n",
    "# I reject the Null Hypothesis that class has no significant impact on gas mileage\n",
    "compact_mileage_series = mpg[mpg[\"class\"] == \"compact\"].avg_mileage\n",
    "other_mileage_series = mpg[mpg[\"class\"] != \"compact\"].avg_mileage\n",
    "stats.ttest_ind(compact_mileage_series, other_mileage_series)"
   ]
  },
  {
   "cell_type": "code",
   "execution_count": 11,
   "metadata": {},
   "outputs": [
    {
     "data": {
      "text/plain": [
       "24.21276595744681"
      ]
     },
     "execution_count": 11,
     "metadata": {},
     "output_type": "execute_result"
    }
   ],
   "source": [
    "compact_avg_mileage = mpg[mpg[\"class\"] == \"compact\"].avg_mileage.mean()\n",
    "compact_avg_mileage"
   ]
  },
  {
   "cell_type": "code",
   "execution_count": 12,
   "metadata": {},
   "outputs": [
    {
     "data": {
      "text/plain": [
       "19.128342245989305"
      ]
     },
     "execution_count": 12,
     "metadata": {},
     "output_type": "execute_result"
    }
   ],
   "source": [
    "other_avg_mileage = mpg[mpg[\"class\"] != \"compact\"].avg_mileage.mean()\n",
    "other_avg_mileage"
   ]
  },
  {
   "cell_type": "markdown",
   "metadata": {},
   "source": [
    "#### Manual car avg_mileage vs. automatic car avg_mileage\n",
    "\n",
    "-Null Hypothesis:\n",
    "    \n",
    "    Car transimission type has no significant impact on fuel efficiency.\n",
    "\n",
    "-T-score = 4.59 and P-value = 7.15e-06\n",
    "\n",
    "    I reject the Null Hypothesis based on these results."
   ]
  },
  {
   "cell_type": "code",
   "execution_count": 13,
   "metadata": {},
   "outputs": [
    {
     "data": {
      "text/plain": [
       "Ttest_indResult(statistic=4.593437735750014, pvalue=7.154374401145683e-06)"
      ]
     },
     "execution_count": 13,
     "metadata": {},
     "output_type": "execute_result"
    }
   ],
   "source": [
    "manual_mileage_series = mpg[mpg[\"trans\"].str.contains(\"man\")].avg_mileage\n",
    "auto_mileage_series = mpg[mpg[\"trans\"].str.contains(\"auto\")].avg_mileage\n",
    "stats.ttest_ind(manual_mileage_series, auto_mileage_series)"
   ]
  },
  {
   "cell_type": "code",
   "execution_count": 14,
   "metadata": {},
   "outputs": [
    {
     "data": {
      "text/plain": [
       "22.227272727272727"
      ]
     },
     "execution_count": 14,
     "metadata": {},
     "output_type": "execute_result"
    }
   ],
   "source": [
    "manual_avg_mileage = mpg[mpg[\"trans\"].str.contains(\"man\")].avg_mileage.mean()\n",
    "manual_avg_mileage"
   ]
  },
  {
   "cell_type": "code",
   "execution_count": 15,
   "metadata": {},
   "outputs": [
    {
     "data": {
      "text/plain": [
       "19.130573248407643"
      ]
     },
     "execution_count": 15,
     "metadata": {},
     "output_type": "execute_result"
    }
   ],
   "source": [
    "auto_avg_mileage = mpg[mpg[\"trans\"].str.contains(\"auto\")].avg_mileage.mean()\n",
    "auto_avg_mileage"
   ]
  },
  {
   "cell_type": "markdown",
   "metadata": {},
   "source": [
    "#### Examples from class\n",
    "\n",
    "-one sample vs population"
   ]
  },
  {
   "cell_type": "code",
   "execution_count": 16,
   "metadata": {},
   "outputs": [
    {
     "data": {
      "text/plain": [
       "Ttest_1sampResult(statistic=3.5326491154693795, pvalue=0.0007034372080173209)"
      ]
     },
     "execution_count": 16,
     "metadata": {},
     "output_type": "execute_result"
    }
   ],
   "source": [
    "pop_city_mileage = mpg.avg_mileage.mean()\n",
    "stats.ttest_1samp(manual_mileage_series, pop_city_mileage)"
   ]
  },
  {
   "cell_type": "code",
   "execution_count": 17,
   "metadata": {},
   "outputs": [
    {
     "data": {
      "text/plain": [
       "23.44017094017094"
      ]
     },
     "execution_count": 17,
     "metadata": {},
     "output_type": "execute_result"
    }
   ],
   "source": [
    "mpg.hwy.mean()"
   ]
  },
  {
   "cell_type": "code",
   "execution_count": 18,
   "metadata": {},
   "outputs": [
    {
     "data": {
      "text/plain": [
       "class\n",
       "2seater       24.800000\n",
       "compact       28.297872\n",
       "midsize       27.292683\n",
       "minivan       22.363636\n",
       "pickup        16.878788\n",
       "subcompact    28.142857\n",
       "suv           18.129032\n",
       "Name: hwy, dtype: float64"
      ]
     },
     "execution_count": 18,
     "metadata": {},
     "output_type": "execute_result"
    }
   ],
   "source": [
    "# avg_mileage by class size\n",
    "mpg.groupby(\"class\").hwy.mean()"
   ]
  },
  {
   "cell_type": "markdown",
   "metadata": {},
   "source": [
    "### Correlation Exercises"
   ]
  },
  {
   "cell_type": "code",
   "execution_count": 19,
   "metadata": {},
   "outputs": [
    {
     "data": {
      "text/html": [
       "<div>\n",
       "<style scoped>\n",
       "    .dataframe tbody tr th:only-of-type {\n",
       "        vertical-align: middle;\n",
       "    }\n",
       "\n",
       "    .dataframe tbody tr th {\n",
       "        vertical-align: top;\n",
       "    }\n",
       "\n",
       "    .dataframe thead th {\n",
       "        text-align: right;\n",
       "    }\n",
       "</style>\n",
       "<table border=\"1\" class=\"dataframe\">\n",
       "  <thead>\n",
       "    <tr style=\"text-align: right;\">\n",
       "      <th></th>\n",
       "      <th>customer_id</th>\n",
       "      <th>gender</th>\n",
       "      <th>is_senior_citizen</th>\n",
       "      <th>partner</th>\n",
       "      <th>dependents</th>\n",
       "      <th>phone_service</th>\n",
       "      <th>internet_service</th>\n",
       "      <th>contract_type</th>\n",
       "      <th>payment_type</th>\n",
       "      <th>monthly_charges</th>\n",
       "      <th>total_charges</th>\n",
       "      <th>tenure</th>\n",
       "      <th>churn</th>\n",
       "      <th>Unnamed: 13</th>\n",
       "      <th>phone_service.1</th>\n",
       "      <th>(Multiple Items)</th>\n",
       "    </tr>\n",
       "  </thead>\n",
       "  <tbody>\n",
       "    <tr>\n",
       "      <th>0</th>\n",
       "      <td>7569-NMZYQ</td>\n",
       "      <td>Female</td>\n",
       "      <td>0</td>\n",
       "      <td>Yes</td>\n",
       "      <td>Yes</td>\n",
       "      <td>2</td>\n",
       "      <td>2</td>\n",
       "      <td>2</td>\n",
       "      <td>Bank transfer (automatic)</td>\n",
       "      <td>118.75</td>\n",
       "      <td>8672.45</td>\n",
       "      <td>73.031158</td>\n",
       "      <td>No</td>\n",
       "      <td>NaN</td>\n",
       "      <td>internet_service</td>\n",
       "      <td>(Multiple Items)</td>\n",
       "    </tr>\n",
       "    <tr>\n",
       "      <th>1</th>\n",
       "      <td>8984-HPEMB</td>\n",
       "      <td>Female</td>\n",
       "      <td>0</td>\n",
       "      <td>No</td>\n",
       "      <td>No</td>\n",
       "      <td>2</td>\n",
       "      <td>2</td>\n",
       "      <td>2</td>\n",
       "      <td>Electronic check</td>\n",
       "      <td>118.65</td>\n",
       "      <td>8477.60</td>\n",
       "      <td>71.450485</td>\n",
       "      <td>No</td>\n",
       "      <td>NaN</td>\n",
       "      <td>NaN</td>\n",
       "      <td>NaN</td>\n",
       "    </tr>\n",
       "    <tr>\n",
       "      <th>2</th>\n",
       "      <td>5734-EJKXG</td>\n",
       "      <td>Female</td>\n",
       "      <td>0</td>\n",
       "      <td>No</td>\n",
       "      <td>No</td>\n",
       "      <td>2</td>\n",
       "      <td>2</td>\n",
       "      <td>1</td>\n",
       "      <td>Electronic check</td>\n",
       "      <td>118.60</td>\n",
       "      <td>7365.70</td>\n",
       "      <td>62.105396</td>\n",
       "      <td>No</td>\n",
       "      <td>NaN</td>\n",
       "      <td>Row Labels</td>\n",
       "      <td>NaN</td>\n",
       "    </tr>\n",
       "    <tr>\n",
       "      <th>3</th>\n",
       "      <td>5989-AXPUC</td>\n",
       "      <td>Female</td>\n",
       "      <td>0</td>\n",
       "      <td>Yes</td>\n",
       "      <td>No</td>\n",
       "      <td>2</td>\n",
       "      <td>2</td>\n",
       "      <td>2</td>\n",
       "      <td>Mailed check</td>\n",
       "      <td>118.60</td>\n",
       "      <td>7990.05</td>\n",
       "      <td>67.369730</td>\n",
       "      <td>No</td>\n",
       "      <td>NaN</td>\n",
       "      <td>0-1</td>\n",
       "      <td>NaN</td>\n",
       "    </tr>\n",
       "    <tr>\n",
       "      <th>4</th>\n",
       "      <td>8199-ZLLSA</td>\n",
       "      <td>Male</td>\n",
       "      <td>0</td>\n",
       "      <td>No</td>\n",
       "      <td>No</td>\n",
       "      <td>2</td>\n",
       "      <td>2</td>\n",
       "      <td>1</td>\n",
       "      <td>Bank transfer (automatic)</td>\n",
       "      <td>118.35</td>\n",
       "      <td>7804.15</td>\n",
       "      <td>65.941276</td>\n",
       "      <td>Yes</td>\n",
       "      <td>NaN</td>\n",
       "      <td>1-2</td>\n",
       "      <td>NaN</td>\n",
       "    </tr>\n",
       "  </tbody>\n",
       "</table>\n",
       "</div>"
      ],
      "text/plain": [
       "  customer_id  gender  is_senior_citizen partner dependents  phone_service  \\\n",
       "0  7569-NMZYQ  Female                  0     Yes        Yes              2   \n",
       "1  8984-HPEMB  Female                  0      No         No              2   \n",
       "2  5734-EJKXG  Female                  0      No         No              2   \n",
       "3  5989-AXPUC  Female                  0     Yes         No              2   \n",
       "4  8199-ZLLSA    Male                  0      No         No              2   \n",
       "\n",
       "   internet_service  contract_type               payment_type  \\\n",
       "0                 2              2  Bank transfer (automatic)   \n",
       "1                 2              2           Electronic check   \n",
       "2                 2              1           Electronic check   \n",
       "3                 2              2               Mailed check   \n",
       "4                 2              1  Bank transfer (automatic)   \n",
       "\n",
       "   monthly_charges  total_charges     tenure churn  Unnamed: 13  \\\n",
       "0           118.75        8672.45  73.031158    No          NaN   \n",
       "1           118.65        8477.60  71.450485    No          NaN   \n",
       "2           118.60        7365.70  62.105396    No          NaN   \n",
       "3           118.60        7990.05  67.369730    No          NaN   \n",
       "4           118.35        7804.15  65.941276   Yes          NaN   \n",
       "\n",
       "    phone_service.1  (Multiple Items)  \n",
       "0  internet_service  (Multiple Items)  \n",
       "1               NaN               NaN  \n",
       "2        Row Labels               NaN  \n",
       "3               0-1               NaN  \n",
       "4               1-2               NaN  "
      ]
     },
     "execution_count": 19,
     "metadata": {},
     "output_type": "execute_result"
    }
   ],
   "source": [
    "telco = pd.read_excel(\"my_telco_churn.xlsx\")\n",
    "telco.head()"
   ]
  },
  {
   "cell_type": "markdown",
   "metadata": {},
   "source": [
    "#### What to do when your dataframe can't calculate bc of NAs\n",
    "\n",
    "-check for NAs\n",
    "\n",
    "-check for count of NAs\n",
    "\n",
    "-slice off any trash columns full of NAs if you have trash columns\n",
    "\n",
    "-drop any remaining rows that contain NAs"
   ]
  },
  {
   "cell_type": "code",
   "execution_count": 20,
   "metadata": {},
   "outputs": [],
   "source": [
    "# Reasign telco to the df with the last 3 columns sliced off, and then recheck for \n",
    "# where there are na's in the df, and THEN drop the rows with those na's\n",
    "# telco.isna()          returns a bool for everything in the dataframe\n",
    "# telco.isna().sum      returns counts for each column\n",
    "telco = telco.iloc[:,:-3].dropna()"
   ]
  },
  {
   "cell_type": "markdown",
   "metadata": {},
   "source": [
    "#### Telco Churn Correlation Problem Monthly Charges\n",
    "\n",
    "$H_0$: There is no correlation between tenure and monthly charges.\n",
    "\n",
    "$H_a$: There is a correlation between tenure and montly charges.\n",
    "\n",
    "Based on the results below, I reject the Null Hypothesis that there is no correlation between tenure and monthly charges.\n",
    "\n",
    "r = 0.2472\n",
    "p = 2.138e-98"
   ]
  },
  {
   "cell_type": "code",
   "execution_count": 21,
   "metadata": {},
   "outputs": [
    {
     "name": "stdout",
     "output_type": "stream",
     "text": [
      "r = 0.246\n",
      "p =1.820659268201368e-97\n"
     ]
    }
   ],
   "source": [
    "monthly_charges = telco.monthly_charges\n",
    "tenure = telco.tenure\n",
    "\n",
    "r, p = stats.pearsonr(tenure, monthly_charges)\n",
    "print(f\"r = {r:.4}\")\n",
    "print(f\"p ={p}\")"
   ]
  },
  {
   "cell_type": "code",
   "execution_count": 36,
   "metadata": {},
   "outputs": [],
   "source": [
    "# telco.plot.scatter(\"tenure\", \"monthly_charges\")\n",
    "# plt.plot(tenure, monthly_charges)"
   ]
  },
  {
   "cell_type": "markdown",
   "metadata": {},
   "source": [
    "#### Telco Churn Correlation Problem Monthly Charges\n",
    "\n",
    "$H_0$: There is no correlation between tenure and total charges.\n",
    "\n",
    "$H_a$: There is a correlation between tenure and total charges.\n",
    "\n",
    "Based on the results below, I reject the Null Hypothesis that there is no correlation between tenure and total charges.\n",
    "\n",
    "r = 0.8257\n",
    "p = 0.0"
   ]
  },
  {
   "cell_type": "code",
   "execution_count": 23,
   "metadata": {},
   "outputs": [
    {
     "name": "stdout",
     "output_type": "stream",
     "text": [
      "r = 0.8257\n",
      "p =0.0\n"
     ]
    }
   ],
   "source": [
    "total_charges = telco.total_charges\n",
    "\n",
    "r, p = stats.pearsonr(tenure, total_charges)\n",
    "print(f\"r = {r:.4}\")\n",
    "print(f\"p ={p}\")"
   ]
  },
  {
   "cell_type": "markdown",
   "metadata": {},
   "source": [
    "### Read in Employees database from SQL\n",
    "\n",
    "-Is there a relationship between how long an employee has been with the company and their salary?\n",
    "\n",
    "    $H_0$: There is not a relationship between tenure at the company and salary.\n",
    "    \n",
    "    $H_a$: There is a realtionship between tenure at the company and salary.\n",
    "    \n",
    "    Based on the results below, I reject the Null Hypothesis that there is not a realtionship.\n",
    "\n",
    "    r = 0.3065\n",
    "    p = 0.0\n",
    "\n",
    "-Is there a relationship between how long an employee has been with the company and the number of titles they have had?\n",
    "\n",
    "    $H_0$: There is not a relationship between tenure at the company and number of titles.\n",
    "    \n",
    "    $H_a$: There is a realtionship between tenure at the company and number of titles.\n",
    "    \n",
    "    Based on the results below, I reject the Null Hypothesis that there is not a relationship between tenure and number of titles an employee has held.\n",
    "    \n",
    "    r = 0.2666\n",
    "    p = 0.0"
   ]
  },
  {
   "cell_type": "code",
   "execution_count": 39,
   "metadata": {},
   "outputs": [
    {
     "data": {
      "text/html": [
       "<div>\n",
       "<style scoped>\n",
       "    .dataframe tbody tr th:only-of-type {\n",
       "        vertical-align: middle;\n",
       "    }\n",
       "\n",
       "    .dataframe tbody tr th {\n",
       "        vertical-align: top;\n",
       "    }\n",
       "\n",
       "    .dataframe thead th {\n",
       "        text-align: right;\n",
       "    }\n",
       "</style>\n",
       "<table border=\"1\" class=\"dataframe\">\n",
       "  <thead>\n",
       "    <tr style=\"text-align: right;\">\n",
       "      <th></th>\n",
       "      <th>emp_no</th>\n",
       "      <th>salary</th>\n",
       "      <th>datediff</th>\n",
       "      <th>hire_date</th>\n",
       "      <th>title</th>\n",
       "    </tr>\n",
       "  </thead>\n",
       "  <tbody>\n",
       "    <tr>\n",
       "      <th>0</th>\n",
       "      <td>10001</td>\n",
       "      <td>88958</td>\n",
       "      <td>5940</td>\n",
       "      <td>1986-06-26</td>\n",
       "      <td>Senior Engineer</td>\n",
       "    </tr>\n",
       "    <tr>\n",
       "      <th>1</th>\n",
       "      <td>10002</td>\n",
       "      <td>72527</td>\n",
       "      <td>6157</td>\n",
       "      <td>1985-11-21</td>\n",
       "      <td>Staff</td>\n",
       "    </tr>\n",
       "    <tr>\n",
       "      <th>2</th>\n",
       "      <td>10003</td>\n",
       "      <td>43311</td>\n",
       "      <td>5877</td>\n",
       "      <td>1986-08-28</td>\n",
       "      <td>Senior Engineer</td>\n",
       "    </tr>\n",
       "    <tr>\n",
       "      <th>3</th>\n",
       "      <td>10004</td>\n",
       "      <td>74057</td>\n",
       "      <td>5782</td>\n",
       "      <td>1986-12-01</td>\n",
       "      <td>Senior Engineer</td>\n",
       "    </tr>\n",
       "    <tr>\n",
       "      <th>4</th>\n",
       "      <td>10005</td>\n",
       "      <td>94692</td>\n",
       "      <td>4766</td>\n",
       "      <td>1989-09-12</td>\n",
       "      <td>Senior Staff</td>\n",
       "    </tr>\n",
       "  </tbody>\n",
       "</table>\n",
       "</div>"
      ],
      "text/plain": [
       "   emp_no  salary  datediff   hire_date            title\n",
       "0   10001   88958      5940  1986-06-26  Senior Engineer\n",
       "1   10002   72527      6157  1985-11-21            Staff\n",
       "2   10003   43311      5877  1986-08-28  Senior Engineer\n",
       "3   10004   74057      5782  1986-12-01  Senior Engineer\n",
       "4   10005   94692      4766  1989-09-12     Senior Staff"
      ]
     },
     "execution_count": 39,
     "metadata": {},
     "output_type": "execute_result"
    }
   ],
   "source": [
    "# Read in data from employees database in server\n",
    "def get_db_url(username, hostname, password, db_name):\n",
    "    return f\"mysql+pymysql://{user}:{password}@{host}/{db_name}\"\n",
    "    \n",
    "url = get_db_url(user, host, password, \"employees\")\n",
    "# query to create column datediff as number of days employed\n",
    "query = \"\"\"\n",
    "    SELECT emp_no, salary, DATEDIFF('2002-09-30', e.hire_date) as datediff, e.hire_date, t.title\n",
    "    FROM salaries as s\n",
    "    JOIN employees as e USING(emp_no)\n",
    "    JOIN titles as t USING(emp_no)\n",
    "    WHERE\n",
    "    s.to_date > '2002-09-30'\n",
    "    AND t.to_date > '2002-09-30';\n",
    "\"\"\"\n",
    "\n",
    "# apply query from above and reasign dataframe\n",
    "df_employees_tenure = pd.read_sql(query, url)\n",
    "df_employees_tenure.head()"
   ]
  },
  {
   "cell_type": "code",
   "execution_count": 41,
   "metadata": {},
   "outputs": [
    {
     "name": "stdout",
     "output_type": "stream",
     "text": [
      "r = 0.3065\n",
      "p =0.0\n"
     ]
    },
    {
     "data": {
      "text/plain": [
       "pandas.core.series.Series"
      ]
     },
     "execution_count": 41,
     "metadata": {},
     "output_type": "execute_result"
    }
   ],
   "source": [
    "# create Pandas Series' for salary and datediff columns\n",
    "salary = df_employees_tenure.salary\n",
    "datediff = df_employees_tenure.datediff\n",
    "\n",
    "r, p = stats.pearsonr(salary, datediff )\n",
    "print(f\"r = {r:.4}\")\n",
    "print(f\"p ={p}\")"
   ]
  },
  {
   "cell_type": "code",
   "execution_count": 26,
   "metadata": {},
   "outputs": [
    {
     "data": {
      "text/plain": [
       "<matplotlib.axes._subplots.AxesSubplot at 0x1a28e8feb8>"
      ]
     },
     "execution_count": 26,
     "metadata": {},
     "output_type": "execute_result"
    },
    {
     "data": {
      "image/png": "[encoded data removed]",
      "text/plain": [
       "<Figure size 432x288 with 1 Axes>"
      ]
     },
     "metadata": {
      "needs_background": "light"
     },
     "output_type": "display_data"
    }
   ],
   "source": [
    "df_employees_tenure.plot.scatter(\"datediff\", \"salary\")"
   ]
  },
  {
   "cell_type": "code",
   "execution_count": 27,
   "metadata": {},
   "outputs": [],
   "source": [
    "# query creates a dataframe with title counts by employee number\n",
    "title_count = \"\"\"\n",
    "    SELECT employees.emp_no, count(*) as count\n",
    "    FROM employees\n",
    "    JOIN titles ON titles.emp_no=employees.emp_no\n",
    "    GROUP BY employees.emp_no;\n",
    "\"\"\"\n",
    "# apply query and asign dataframe\n",
    "df_title_count = pd.read_sql(title_count, url)\n",
    "\n",
    "# reset emp_no to the index to make dataframe 1D\n",
    "df_title_count = df_title_count.set_index(\"emp_no\")\n",
    "\n",
    "# convert 1D dataframe into a Pandas Series\n",
    "title_count_s = df_title_count.squeeze()"
   ]
  },
  {
   "cell_type": "code",
   "execution_count": 28,
   "metadata": {},
   "outputs": [],
   "source": [
    "# query creates a dataframe with title counts by employee number\n",
    "query = \"\"\"\n",
    "    SELECT emp_no, DATEDIFF('2002-09-30', hire_date) as datediff\n",
    "    FROM employees;\n",
    "\"\"\"\n",
    "# apply query and asign dataframe\n",
    "df_employees_tenure = pd.read_sql(query, url)\n",
    "\n",
    "# reset emp_no to the index to make dataframe 1D\n",
    "df_employees_tenure = df_employees_tenure.set_index(\"emp_no\")\n",
    "\n",
    "# convert 1D dataframe into a Pandas Series\n",
    "emp_tenure_s = df_employees_tenure.squeeze()"
   ]
  },
  {
   "cell_type": "code",
   "execution_count": 43,
   "metadata": {},
   "outputs": [
    {
     "name": "stdout",
     "output_type": "stream",
     "text": [
      "r = 0.2666\n",
      "p =0.0\n"
     ]
    }
   ],
   "source": [
    "# Use the Series' I created above to run a Pearson's R stats test\n",
    "corr, p = stats.pearsonr(title_count_s, emp_tenure_s)\n",
    "print(f\"r = {corr:.4}\")\n",
    "print(f\"p ={p}\")"
   ]
  },
  {
   "cell_type": "code",
   "execution_count": null,
   "metadata": {},
   "outputs": [],
   "source": []
  },
  {
   "cell_type": "code",
   "execution_count": 35,
   "metadata": {},
   "outputs": [
    {
     "data": {
      "text/html": [
       "<div>\n",
       "<style scoped>\n",
       "    .dataframe tbody tr th:only-of-type {\n",
       "        vertical-align: middle;\n",
       "    }\n",
       "\n",
       "    .dataframe tbody tr th {\n",
       "        vertical-align: top;\n",
       "    }\n",
       "\n",
       "    .dataframe thead th {\n",
       "        text-align: right;\n",
       "    }\n",
       "</style>\n",
       "<table border=\"1\" class=\"dataframe\">\n",
       "  <thead>\n",
       "    <tr style=\"text-align: right;\">\n",
       "      <th></th>\n",
       "      <th>count</th>\n",
       "      <th>datediff</th>\n",
       "    </tr>\n",
       "    <tr>\n",
       "      <th>emp_no</th>\n",
       "      <th></th>\n",
       "      <th></th>\n",
       "    </tr>\n",
       "  </thead>\n",
       "  <tbody>\n",
       "    <tr>\n",
       "      <th>10001</th>\n",
       "      <td>1</td>\n",
       "      <td>5940</td>\n",
       "    </tr>\n",
       "    <tr>\n",
       "      <th>10002</th>\n",
       "      <td>1</td>\n",
       "      <td>6157</td>\n",
       "    </tr>\n",
       "    <tr>\n",
       "      <th>10003</th>\n",
       "      <td>1</td>\n",
       "      <td>5877</td>\n",
       "    </tr>\n",
       "    <tr>\n",
       "      <th>10004</th>\n",
       "      <td>2</td>\n",
       "      <td>5782</td>\n",
       "    </tr>\n",
       "    <tr>\n",
       "      <th>10005</th>\n",
       "      <td>2</td>\n",
       "      <td>4766</td>\n",
       "    </tr>\n",
       "  </tbody>\n",
       "</table>\n",
       "</div>"
      ],
      "text/plain": [
       "        count  datediff\n",
       "emp_no                 \n",
       "10001       1      5940\n",
       "10002       1      6157\n",
       "10003       1      5877\n",
       "10004       2      5782\n",
       "10005       2      4766"
      ]
     },
     "execution_count": 35,
     "metadata": {},
     "output_type": "execute_result"
    }
   ],
   "source": [
    "t_and_t_count = pd.merge(df_title_count, df_employees_tenure, left_on=\"emp_no\", right_on=\"emp_no\")\n",
    "t_and_t_count.head()"
   ]
  },
  {
   "cell_type": "markdown",
   "metadata": {},
   "source": [
    "#### Sleepstudy Data and Exercise\n",
    "\n",
    "$H_0$: The Null Hypothesis is that the number of days a subject is in the experiment does not effect their reaction time.\n",
    "\n",
    "$H_a$: The Alternative Hypothesis is that the number of days a subject is in the experiment does effect their reaction time.\n",
    "\n",
    "Based on the results below, I reject the Null Hypothesis that the number of days a subject is in the sleepstudy does not effect their reaction time.\n",
    "\n",
    "r = 0.5352\n",
    "p = 9.894e-15"
   ]
  },
  {
   "cell_type": "code",
   "execution_count": 44,
   "metadata": {},
   "outputs": [
    {
     "data": {
      "text/html": [
       "<div>\n",
       "<style scoped>\n",
       "    .dataframe tbody tr th:only-of-type {\n",
       "        vertical-align: middle;\n",
       "    }\n",
       "\n",
       "    .dataframe tbody tr th {\n",
       "        vertical-align: top;\n",
       "    }\n",
       "\n",
       "    .dataframe thead th {\n",
       "        text-align: right;\n",
       "    }\n",
       "</style>\n",
       "<table border=\"1\" class=\"dataframe\">\n",
       "  <thead>\n",
       "    <tr style=\"text-align: right;\">\n",
       "      <th></th>\n",
       "      <th>Reaction</th>\n",
       "      <th>Days</th>\n",
       "      <th>Subject</th>\n",
       "    </tr>\n",
       "  </thead>\n",
       "  <tbody>\n",
       "    <tr>\n",
       "      <th>1</th>\n",
       "      <td>249.5600</td>\n",
       "      <td>0</td>\n",
       "      <td>308</td>\n",
       "    </tr>\n",
       "    <tr>\n",
       "      <th>2</th>\n",
       "      <td>258.7047</td>\n",
       "      <td>1</td>\n",
       "      <td>308</td>\n",
       "    </tr>\n",
       "    <tr>\n",
       "      <th>3</th>\n",
       "      <td>250.8006</td>\n",
       "      <td>2</td>\n",
       "      <td>308</td>\n",
       "    </tr>\n",
       "    <tr>\n",
       "      <th>4</th>\n",
       "      <td>321.4398</td>\n",
       "      <td>3</td>\n",
       "      <td>308</td>\n",
       "    </tr>\n",
       "    <tr>\n",
       "      <th>5</th>\n",
       "      <td>356.8519</td>\n",
       "      <td>4</td>\n",
       "      <td>308</td>\n",
       "    </tr>\n",
       "  </tbody>\n",
       "</table>\n",
       "</div>"
      ],
      "text/plain": [
       "   Reaction  Days  Subject\n",
       "1  249.5600     0      308\n",
       "2  258.7047     1      308\n",
       "3  250.8006     2      308\n",
       "4  321.4398     3      308\n",
       "5  356.8519     4      308"
      ]
     },
     "execution_count": 44,
     "metadata": {},
     "output_type": "execute_result"
    }
   ],
   "source": [
    "sleepstudy = data(\"sleepstudy\")\n",
    "sleepstudy.head()"
   ]
  },
  {
   "cell_type": "code",
   "execution_count": 45,
   "metadata": {},
   "outputs": [
    {
     "name": "stdout",
     "output_type": "stream",
     "text": [
      "r = 0.5352\n",
      "p =9.894096322214812e-15\n"
     ]
    }
   ],
   "source": [
    "days = sleepstudy.Days\n",
    "reaction = sleepstudy.Reaction\n",
    "\n",
    "r, p = stats.pearsonr(days, reaction )\n",
    "print(f\"r = {r:.4}\")\n",
    "print(f\"p ={p}\")"
   ]
  },
  {
   "cell_type": "code",
   "execution_count": 50,
   "metadata": {},
   "outputs": [
    {
     "data": {
      "text/plain": [
       "<matplotlib.axes._subplots.AxesSubplot at 0x1a27d3b4a8>"
      ]
     },
     "execution_count": 50,
     "metadata": {},
     "output_type": "execute_result"
    },
    {
     "data": {
      "image/png": "[encoded data removed]",
      "text/plain": [
       "<Figure size 432x288 with 1 Axes>"
      ]
     },
     "metadata": {
      "needs_background": "light"
     },
     "output_type": "display_data"
    }
   ],
   "source": [
    "sleepstudy.plot.scatter(\"Days\", \"Reaction\", c=\"orange\")"
   ]
  },
  {
   "cell_type": "code",
   "execution_count": 46,
   "metadata": {},
   "outputs": [
    {
     "data": {
      "text/plain": [
       "[<matplotlib.lines.Line2D at 0x1a240c88d0>]"
      ]
     },
     "execution_count": 46,
     "metadata": {},
     "output_type": "execute_result"
    },
    {
     "data": {
      "image/png": "[encoded data removed]",
      "text/plain": [
       "<Figure size 432x288 with 1 Axes>"
      ]
     },
     "metadata": {
      "needs_background": "light"
     },
     "output_type": "display_data"
    }
   ],
   "source": [
    "plt.plot(days, reaction)"
   ]
  },
  {
   "cell_type": "markdown",
   "metadata": {},
   "source": [
    "### Chi Square Exercises"
   ]
  },
  {
   "cell_type": "markdown",
   "metadata": {},
   "source": [
    "1. Use the following contingency table to help answer the question of whether using a macbook and being a codeup student are independent of each other."
   ]
  },
  {
   "cell_type": "code",
   "execution_count": null,
   "metadata": {},
   "outputs": [],
   "source": []
  },
  {
   "cell_type": "markdown",
   "metadata": {},
   "source": [
    "2. Choose another 2 categorical variables from the mpg dataset and perform a \n",
    "$chi^2$ contingency table test with them. Be sure to state your null and alternative hypotheses."
   ]
  },
  {
   "cell_type": "code",
   "execution_count": null,
   "metadata": {},
   "outputs": [],
   "source": []
  },
  {
   "cell_type": "markdown",
   "metadata": {},
   "source": [
    "3. Use the data from the employees database to answer these questions:\n",
    "\n",
    "Is an employee's gender independent of whether an employee works in sales or marketing? (only look at current employees)\n",
    "\n",
    "Is an employee's gender independent of whether or not they are or have been a manager?"
   ]
  },
  {
   "cell_type": "code",
   "execution_count": null,
   "metadata": {},
   "outputs": [],
   "source": []
  }
 ],
 "metadata": {
  "kernelspec": {
   "display_name": "Python 3",
   "language": "python",
   "name": "python3"
  },
  "language_info": {
   "codemirror_mode": {
    "name": "ipython",
    "version": 3
   },
   "file_extension": ".py",
   "mimetype": "text/x-python",
   "name": "python",
   "nbconvert_exporter": "python",
   "pygments_lexer": "ipython3",
   "version": "3.7.3"
  }
 },
 "nbformat": 4,
 "nbformat_minor": 2
}
