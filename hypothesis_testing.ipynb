{
 "cells": [
  {
   "cell_type": "markdown",
   "metadata": {},
   "source": [
    "### Exercises\n",
    "\n",
    "-Do your work for this exercise in a jupyter notebook named hypothesis_testing.ipynb.\n",
    "\n",
    "-For each of the following questions, formulate a null and alternative hypothesis (be as specific as you can be), then give an example of what a true positive, true negative, type I and type II errors would look like.\n",
    "\n",
    "    -Is the website redesign any good?\n",
    "\n",
    "    -Is our television ad driving more sales?\n",
    "\n",
    "    -Has the network latency gone up since we switched internet service providers?"
   ]
  },
  {
   "cell_type": "markdown",
   "metadata": {},
   "source": [
    "Null Hypothesis:\n",
    "    The website redesign has had no effect\n",
    "\n",
    "Alternative Hypothesis:\n",
    "    The website redesign has had an effect\n",
    "\n",
    "True Positive:\n",
    "\n",
    "True Negative:\n",
    "\n",
    "Type I Error:\n",
    "\n",
    "Type II Error:\n",
    "\n",
    "Null Hypothesis:\n",
    "    Our television ad has had no effect on sales\n",
    "    \n",
    "Alternative Hypothesis:\n",
    "    Our television ad has had an effecton sales\n",
    "\n",
    "True Positive:\n",
    "\n",
    "True Negative:\n",
    "\n",
    "Type I Error:\n",
    "\n",
    "Type II Error:\n",
    "\n",
    "Null Hypothesis:\n",
    "    Switching internet service providers has had no effect on network latency\n",
    "    \n",
    "Alternative Hypothesis:\n",
    "    Switching internet service providers has had an effect on our network latency\n",
    "\n",
    "True Positive:\n",
    "\n",
    "True Negative:\n",
    "\n",
    "Type I Error:\n",
    "\n",
    "Type II Error:"
   ]
  }
 ],
 "metadata": {
  "kernelspec": {
   "display_name": "Python 3",
   "language": "python",
   "name": "python3"
  },
  "language_info": {
   "codemirror_mode": {
    "name": "ipython",
    "version": 3
   },
   "file_extension": ".py",
   "mimetype": "text/x-python",
   "name": "python",
   "nbconvert_exporter": "python",
   "pygments_lexer": "ipython3",
   "version": "3.7.3"
  }
 },
 "nbformat": 4,
 "nbformat_minor": 2
}
