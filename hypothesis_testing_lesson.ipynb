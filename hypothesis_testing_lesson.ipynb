{
 "cells": [
  {
   "cell_type": "code",
   "execution_count": 3,
   "metadata": {},
   "outputs": [],
   "source": [
    "%matplotlib inline\n",
    "import matplotlib.pyplot as plt\n",
    "import numpy as np\n",
    "from scipy import stats\n",
    "#import viz # curriculum viz example code\n",
    "\n",
    "#np.random.seed(123)"
   ]
  },
  {
   "cell_type": "markdown",
   "metadata": {},
   "source": [
    "## Hypothesis Testing\n",
    "\n",
    "Hypothesis testing is the process of comparing one hypothesis to another, and using statistics to help evaluate the hypothesis.\n"
   ]
  },
  {
   "cell_type": "markdown",
   "metadata": {},
   "source": [
    "#### Null Hypothesis    \n",
    "    The \"default\" hypothesis; usually no change, no effect, etc\n",
    "    \n",
    "#### Alternative Hypothesis\n",
    "    There is a change, there is a difference\n",
    "    \n",
    "#### Significance Level, False Positive Rate\n"
   ]
  },
  {
   "cell_type": "markdown",
   "metadata": {},
   "source": [
    "n general hypothesis tests are performed like so:\n",
    "\n",
    "    1. Choose the right type of test for your data / question^[We won't get into it in this lesson, but the rest of this module will go in to detail on which kind of test is appropriate in different scenarios.]\n",
    "\n",
    "    2. Set a desired confidence level and form hyoptheses\n",
    "\n",
    "    3. Calculate the appropriate test statistics and p-value\n",
    "\n",
    "    4. Conclude based on the above statistics"
   ]
  },
  {
   "cell_type": "markdown",
   "metadata": {},
   "source": [
    "#### Central"
   ]
  },
  {
   "cell_type": "code",
   "execution_count": null,
   "metadata": {},
   "outputs": [],
   "source": []
  },
  {
   "cell_type": "code",
   "execution_count": 28,
   "metadata": {},
   "outputs": [
    {
     "data": {
      "text/plain": [
       "array([[5, 6, 2, 5, 4, 6, 1, 6, 4, 3],\n",
       "       [3, 6, 6, 4, 1, 3, 2, 1, 5, 2],\n",
       "       [4, 2, 1, 4, 6, 1, 3, 6, 5, 3],\n",
       "       [4, 6, 2, 6, 1, 4, 2, 2, 5, 3],\n",
       "       [6, 3, 5, 5, 3, 2, 4, 5, 6, 6],\n",
       "       [1, 3, 3, 2, 4, 1, 6, 2, 3, 3],\n",
       "       [2, 1, 4, 4, 5, 1, 2, 5, 5, 6],\n",
       "       [4, 4, 3, 6, 5, 5, 2, 5, 5, 3],\n",
       "       [1, 5, 4, 3, 2, 2, 4, 1, 4, 5],\n",
       "       [3, 4, 3, 6, 5, 6, 3, 5, 3, 6],\n",
       "       [6, 1, 2, 2, 5, 3, 1, 2, 5, 6],\n",
       "       [6, 2, 3, 3, 3, 1, 4, 6, 6, 4],\n",
       "       [4, 5, 2, 6, 5, 3, 1, 6, 2, 2],\n",
       "       [3, 3, 5, 6, 1, 2, 2, 5, 4, 3],\n",
       "       [3, 3, 1, 5, 5, 6, 5, 5, 3, 2],\n",
       "       [6, 1, 2, 3, 5, 6, 5, 2, 5, 4],\n",
       "       [6, 3, 6, 5, 4, 6, 1, 6, 5, 5],\n",
       "       [3, 1, 1, 3, 6, 4, 2, 4, 1, 3],\n",
       "       [4, 3, 5, 6, 5, 4, 5, 2, 3, 1],\n",
       "       [2, 1, 2, 6, 2, 5, 3, 6, 4, 1],\n",
       "       [6, 6, 5, 2, 1, 2, 6, 5, 1, 4]])"
      ]
     },
     "execution_count": 28,
     "metadata": {},
     "output_type": "execute_result"
    }
   ],
   "source": [
    "# Each row is a student's 10 rolls\n",
    "roll = np.random.choice([1, 2, 3, 4, 5, 6], (21, 10))\n",
    "roll"
   ]
  },
  {
   "cell_type": "code",
   "execution_count": 31,
   "metadata": {},
   "outputs": [
    {
     "data": {
      "text/plain": [
       "(array([2., 1., 3., 4., 1., 5., 0., 2., 2., 1.]),\n",
       " array([2.8 , 2.99, 3.18, 3.37, 3.56, 3.75, 3.94, 4.13, 4.32, 4.51, 4.7 ]),\n",
       " <a list of 10 Patch objects>)"
      ]
     },
     "execution_count": 31,
     "metadata": {},
     "output_type": "execute_result"
    },
    {
     "data": {
      "image/png": "[encoded data removed]",
      "text/plain": [
       "<Figure size 432x288 with 1 Axes>"
      ]
     },
     "metadata": {
      "needs_background": "light"
     },
     "output_type": "display_data"
    }
   ],
   "source": [
    "# The distribution of averages of rolling dice (uniform distribution) is a Normal Dist\n",
    "roll.mean(axis=1)\n",
    "avg_of_10_rolls = roll.mean(axis=1)\n",
    "\n",
    "# A Sampline Distribution, the distribution of averages \n",
    "# (in this case the averages of each students'10 rolls)\n",
    "plt.hist(avg_of_10_rolls)"
   ]
  },
  {
   "cell_type": "markdown",
   "metadata": {},
   "source": [
    "This is useful because with this Sampling (Normal) Dist above can be used with cmd (cumulative density function)"
   ]
  },
  {
   "cell_type": "markdown",
   "metadata": {},
   "source": [
    "T Score () A standardized way to talk about the difference between a calculated average and statistical average. (The average we observe and the statistical average)\n",
    "\n",
    "-The T Score follows a Normal Distribution"
   ]
  },
  {
   "cell_type": "markdown",
   "metadata": {},
   "source": [
    "#### Example"
   ]
  },
  {
   "cell_type": "code",
   "execution_count": 36,
   "metadata": {},
   "outputs": [
    {
     "data": {
      "text/plain": [
       "array([5, 2, 4, 4, 5, 2, 1, 2, 3, 3, 1, 5, 1, 5, 1])"
      ]
     },
     "execution_count": 36,
     "metadata": {},
     "output_type": "execute_result"
    }
   ],
   "source": [
    "np.random.seed(7)\n",
    "import math\n",
    "\n",
    "#The smaller the n, the more likely to observe extreme values\n",
    "n = 15\n",
    "\n",
    "rolls = np.random.choice([1, 2, 3, 4, 5, 6], n)\n",
    "rolls"
   ]
  },
  {
   "cell_type": "markdown",
   "metadata": {},
   "source": [
    "##### Set a 95% confidence level\n",
    "-average dice rolls is 3.5"
   ]
  },
  {
   "cell_type": "code",
   "execution_count": 33,
   "metadata": {},
   "outputs": [
    {
     "data": {
      "text/plain": [
       "2.933333333333333"
      ]
     },
     "execution_count": 33,
     "metadata": {},
     "output_type": "execute_result"
    }
   ],
   "source": [
    "# Average roll\n",
    "rolls.mean()"
   ]
  },
  {
   "cell_type": "code",
   "execution_count": 34,
   "metadata": {},
   "outputs": [
    {
     "data": {
      "text/plain": [
       "1.569146972791976"
      ]
     },
     "execution_count": 34,
     "metadata": {},
     "output_type": "execute_result"
    }
   ],
   "source": [
    "rolls.std()"
   ]
  },
  {
   "cell_type": "code",
   "execution_count": 38,
   "metadata": {},
   "outputs": [
    {
     "data": {
      "text/plain": [
       "-1.3986520070493254"
      ]
     },
     "execution_count": 38,
     "metadata": {},
     "output_type": "execute_result"
    }
   ],
   "source": [
    "# average dice roll is 3.5, t-score\n",
    "t = (rolls.mean() - 3.5) / (rolls.std() / math.sqrt(n))\n",
    "t"
   ]
  },
  {
   "cell_type": "markdown",
   "metadata": {},
   "source": [
    "##### On a Normal Distribution\n",
    "    + -1.39\n",
    "    + 1.39"
   ]
  },
  {
   "cell_type": "code",
   "execution_count": 39,
   "metadata": {},
   "outputs": [
    {
     "data": {
      "text/plain": [
       "0.18367838344198753"
      ]
     },
     "execution_count": 39,
     "metadata": {},
     "output_type": "execute_result"
    }
   ],
   "source": [
    "# Two tail T-test\n",
    "##### The probabilty that we observe the value we have with the mean we have.#########\n",
    "stats.t(n-1).cdf(t) * 2   # *2 for both the tail to the left and the tail to the right\n",
    "\n",
    "# There's about a 20% chance that we got the result we got just due to chance.  \n",
    "# We set a confidence level of 95%, so we would \"fail to reject the Null Hypothesis\", (Accept)\n",
    "## In short, this means go with the alternative hypothesis which says that\n",
    "## the mean is NOT 3.5\n",
    "\n",
    "### This is the P value\n",
    "### This is your percent of wrongness\n",
    "### 20% chance that a student would roll a 3 or more extreme\n",
    "### A p value of 1 means that the known population at 3.5 is definitely 3.5 or\n",
    "###### your sample mean is exactly the same as your population mean"
   ]
  },
  {
   "cell_type": "code",
   "execution_count": null,
   "metadata": {},
   "outputs": [],
   "source": [
    "# If we fail to reject the Null Hypothesis, it means we believe our results are due to chance"
   ]
  },
  {
   "cell_type": "markdown",
   "metadata": {},
   "source": [
    "##### p value\n",
    "If P is less than alpha, we reject the Null Hypothesis\n",
    "Alpha is 1 - confidence level (.95)     \n",
    "    Alpha is .05\n",
    "\n"
   ]
  },
  {
   "cell_type": "markdown",
   "metadata": {},
   "source": [
    "### Type I Error - False positive\n",
    "-When we reject the null hypothesis, but in reality, the null hypothesis is true"
   ]
  },
  {
   "cell_type": "markdown",
   "metadata": {},
   "source": [
    "###  Type II Error - False Negative\n",
    "-When we fail to reject the null hypothesis when it is actually false"
   ]
  },
  {
   "cell_type": "markdown",
   "metadata": {},
   "source": [
    "#### Another example - pull in salaries and depts in sql"
   ]
  },
  {
   "cell_type": "code",
   "execution_count": null,
   "metadata": {},
   "outputs": [],
   "source": [
    "Null Hypothesis:\n",
    "\n",
    "Alternative Hypothesis:"
   ]
  },
  {
   "cell_type": "code",
   "execution_count": null,
   "metadata": {},
   "outputs": [],
   "source": [
    "avg_salary = salaries.salary.mean()\n",
    "avg_research_salary = salaries[salaries.department == \"Research\"].salary.mean()\n",
    "\n",
    "s = salaries[salaries.department == \"Research\"].salary.std()\n",
    "n = salaries[salaries.department == \"Research\"].shape[0]"
   ]
  },
  {
   "cell_type": "code",
   "execution_count": null,
   "metadata": {},
   "outputs": [],
   "source": [
    "## THIS...SAVES...TIME!!! \n",
    "# stats.ttest_1samp(a, popmean, axis=0, nan_policy='propagate')\n",
    "stats.ttest_1sample()"
   ]
  },
  {
   "cell_type": "code",
   "execution_count": null,
   "metadata": {},
   "outputs": [],
   "source": [
    "research_salaries = salaries[salaries.department == \"Research\".salary]\n",
    "marketing_salaries = salaries[salaries.department == \"Marketing\".salary]"
   ]
  },
  {
   "cell_type": "code",
   "execution_count": null,
   "metadata": {},
   "outputs": [],
   "source": [
    "stats.ttest_ind(marketing_salaries, research_salaries)"
   ]
  },
  {
   "cell_type": "markdown",
   "metadata": {},
   "source": [
    "#### Notes:\n",
    "A T-Test let's us...\n",
    "Let's us compare a continuous variable and a categorical variabe"
   ]
  },
  {
   "cell_type": "code",
   "execution_count": null,
   "metadata": {},
   "outputs": [],
   "source": []
  }
 ],
 "metadata": {
  "kernelspec": {
   "display_name": "Python 3",
   "language": "python",
   "name": "python3"
  },
  "language_info": {
   "codemirror_mode": {
    "name": "ipython",
    "version": 3
   },
   "file_extension": ".py",
   "mimetype": "text/x-python",
   "name": "python",
   "nbconvert_exporter": "python",
   "pygments_lexer": "ipython3",
   "version": "3.7.3"
  }
 },
 "nbformat": 4,
 "nbformat_minor": 2
}
