{
 "cells": [
  {
   "cell_type": "markdown",
   "metadata": {},
   "source": [
    "## Probability Distributions\n"
   ]
  },
  {
   "cell_type": "code",
   "execution_count": 24,
   "metadata": {},
   "outputs": [],
   "source": [
    "%matplotlib inline\n",
    "import matplotlib.pyplot as plt\n",
    "import numpy as np\n",
    "from scipy import stats\n",
    "#import viz # curriculum viz example code\n",
    "\n",
    "np.random.seed(123)"
   ]
  },
  {
   "cell_type": "code",
   "execution_count": 27,
   "metadata": {},
   "outputs": [
    {
     "data": {
      "text/plain": [
       "array([[2, 2, 1, 1, 2, 4, 6, 5, 1, 1],\n",
       "       [5, 2, 4, 3, 5, 3, 5, 1, 6, 1],\n",
       "       [2, 4, 5, 5, 5, 2, 6, 4, 3, 2],\n",
       "       [5, 1, 4, 3, 6, 1, 4, 3, 3, 3],\n",
       "       [6, 3, 5, 4, 4, 6, 5, 5, 6, 4],\n",
       "       [3, 1, 5, 4, 2, 4, 3, 6, 2, 3],\n",
       "       [5, 1, 2, 5, 3, 2, 2, 4, 5, 6],\n",
       "       [2, 1, 1, 4, 2, 4, 4, 4, 6, 2],\n",
       "       [2, 3, 4, 4, 4, 4, 1, 2, 4, 2],\n",
       "       [5, 4, 2, 6, 3, 4, 5, 4, 2, 6]])"
      ]
     },
     "execution_count": 27,
     "metadata": {},
     "output_type": "execute_result"
    }
   ],
   "source": [
    "die_distribution = stats.randint(1, 7)\n",
    "\n",
    "die_distribution.rvs()\n",
    "die_distribution.rvs(10)    # returns a 1D array\n",
    "die_distribution.rvs((10,10))  # returns a 2D array"
   ]
  },
  {
   "cell_type": "markdown",
   "metadata": {},
   "source": [
    "### PMF / PDF\n",
    "\n",
    "The probability mass function (pmf) (probability density function (pdf) for continuous distributions) is a function that gives us the probability of any single outcome. For example, we could use the pmf to give us the probability of rolling a 3 with our dice rolling distribution:"
   ]
  },
  {
   "cell_type": "code",
   "execution_count": 25,
   "metadata": {},
   "outputs": [
    {
     "data": {
      "text/plain": [
       "0.16666666666666666"
      ]
     },
     "execution_count": 25,
     "metadata": {},
     "output_type": "execute_result"
    }
   ],
   "source": [
    "die_distribution.pmf(4)   # What's the liklihood we roll a four?"
   ]
  },
  {
   "cell_type": "markdown",
   "metadata": {},
   "source": [
    "#### Note: \n",
    "\n",
    "All of the functions that we discuss here can accept a single value or a list of values and will produce either a single number, or a numpy array of results that correspond to the inputs.\n",
    "\n",
    "\n",
    "    For example, we can calculate multiple pmfs at once like this:\n",
    "\n",
    "    die_distribution.pmf([1, 2, 3])"
   ]
  },
  {
   "cell_type": "markdown",
   "metadata": {},
   "source": [
    "#### CDF / PPF\n",
    "\n",
    "The cumulative density function tells us the likelihood of a single outcome or all the results below it. For our dice rolling example, this might be something like \"what is the probability of rolling a 3 or lower?\""
   ]
  },
  {
   "cell_type": "code",
   "execution_count": 26,
   "metadata": {},
   "outputs": [
    {
     "data": {
      "text/plain": [
       "0.5"
      ]
     },
     "execution_count": 26,
     "metadata": {},
     "output_type": "execute_result"
    }
   ],
   "source": [
    "die_distribution.cdf(3)  # What's the liklihood we roll a 3 or less?\n"
   ]
  },
  {
   "cell_type": "markdown",
   "metadata": {},
   "source": [
    "The percent point function (ppf) (also known as the quantile function) can be thought of as the inverse of the cdf.\n",
    "\n",
    "The ppf accepts a probability, and gives us the value that is associate with that probability:"
   ]
  },
  {
   "cell_type": "code",
   "execution_count": 28,
   "metadata": {},
   "outputs": [
    {
     "data": {
      "text/plain": [
       "5.0"
      ]
     },
     "execution_count": 28,
     "metadata": {},
     "output_type": "execute_result"
    }
   ],
   "source": [
    "die_distribution.ppf(5/6)"
   ]
  },
  {
   "cell_type": "markdown",
   "metadata": {},
   "source": [
    "#### SF / ISF\n",
    "\n",
    "The survival function (sf) tells us what the probability of our random variable falling above a certain value is. This is the same as 1 minus the cdf of the same value.\n",
    "\n",
    "We can use this to answer questions like: \"What is the likelihood we roll a value higher than 4?\""
   ]
  },
  {
   "cell_type": "code",
   "execution_count": 30,
   "metadata": {},
   "outputs": [
    {
     "data": {
      "text/plain": [
       "1.0"
      ]
     },
     "execution_count": 30,
     "metadata": {},
     "output_type": "execute_result"
    }
   ],
   "source": [
    "# The sum of these will always be 1. They are complimentary\n",
    "# sf is the area to the right    cdf is the area to the left\n",
    "       die_distribution.sf(4) + die_distribution.cdf(4)\n"
   ]
  },
  {
   "cell_type": "markdown",
   "metadata": {},
   "source": [
    "Like the ppf, the inverse survival function (isf) will give us a value when we provide a probability.\n",
    "\n",
    "    For example: \"There is a 1/3 chance a dice roll will be higher than what value?\""
   ]
  },
  {
   "cell_type": "code",
   "execution_count": 31,
   "metadata": {},
   "outputs": [
    {
     "data": {
      "text/plain": [
       "4.0"
      ]
     },
     "execution_count": 31,
     "metadata": {},
     "output_type": "execute_result"
    }
   ],
   "source": [
    "die_distribution.isf(1/3)\n"
   ]
  },
  {
   "cell_type": "markdown",
   "metadata": {},
   "source": [
    "### Mini Exercises"
   ]
  },
  {
   "cell_type": "markdown",
   "metadata": {},
   "source": [
    "Use a scipy statistical distribution to answer the questions below:\n",
    "\n",
    "die_distribution = stats.randint(1, 7)\n",
    "\n",
    "    What is the probability of rolling a 1?\n",
    "    \n",
    "    There's a 1 in 2 chance that I'll roll higher than what number?\n",
    "    \n",
    "    What is the probability of rolling less than or equal to 2?\n",
    "    \n",
    "    There's a 5 in 6 chance that my roll will be less than or equal to what number?\n",
    "    \n",
    "    There's a 1 in 2 chance that my roll will be less than or equal to what number?\n",
    "    \n",
    "    What is the probability of rolling less than or equal to 6?\n",
    "    \n",
    "    There's a 1 in 3 chance that I'll roll higher than what number?\n",
    "    \n",
    "    What is the probability of rolling higher than a 1?\n",
    "    \n",
    "    There's a 2 in 3 chance that my roll will be less than or equal to what number?\n",
    "    \n",
    "    There's a 2 in 3 chance that I'll roll higher than what number?\n",
    "    \n",
    "    There's a 1 in 3 chance that my roll will be less than or equal to what number?\n",
    "    \n",
    "    There's a 1 in 6 chance that I'll roll higher than what number?"
   ]
  },
  {
   "cell_type": "code",
   "execution_count": 33,
   "metadata": {},
   "outputs": [
    {
     "data": {
      "text/plain": [
       "0.16666666666666666"
      ]
     },
     "execution_count": 33,
     "metadata": {},
     "output_type": "execute_result"
    }
   ],
   "source": [
    "# What is the probability of rolling a 1?\n",
    "die_distribution.pmf(1)"
   ]
  },
  {
   "cell_type": "code",
   "execution_count": 37,
   "metadata": {},
   "outputs": [
    {
     "data": {
      "text/plain": [
       "3.0"
      ]
     },
     "execution_count": 37,
     "metadata": {},
     "output_type": "execute_result"
    }
   ],
   "source": [
    "# There's a 1 in 2 chance that I'll roll higher than what number?\n",
    "die_distribution.isf(1/2)"
   ]
  },
  {
   "cell_type": "code",
   "execution_count": 36,
   "metadata": {},
   "outputs": [
    {
     "data": {
      "text/plain": [
       "0.3333333333333333"
      ]
     },
     "execution_count": 36,
     "metadata": {},
     "output_type": "execute_result"
    }
   ],
   "source": [
    "# What is the probability of rolling less than or equal to 2?\n",
    "die_distribution.cdf(2)"
   ]
  },
  {
   "cell_type": "code",
   "execution_count": 38,
   "metadata": {},
   "outputs": [
    {
     "data": {
      "text/plain": [
       "5.0"
      ]
     },
     "execution_count": 38,
     "metadata": {},
     "output_type": "execute_result"
    }
   ],
   "source": [
    "# There's a 5 in 6 chance that my roll will be less than or equal to what number?\n",
    "die_distribution.ppf(5/6)"
   ]
  },
  {
   "cell_type": "code",
   "execution_count": 40,
   "metadata": {},
   "outputs": [
    {
     "data": {
      "text/plain": [
       "3.0"
      ]
     },
     "execution_count": 40,
     "metadata": {},
     "output_type": "execute_result"
    }
   ],
   "source": [
    "# There's a 1 in 2 chance that my roll will be less than or equal to what number?\n",
    "die_distribution.ppf(1/2)"
   ]
  },
  {
   "cell_type": "code",
   "execution_count": 41,
   "metadata": {},
   "outputs": [
    {
     "data": {
      "text/plain": [
       "1.0"
      ]
     },
     "execution_count": 41,
     "metadata": {},
     "output_type": "execute_result"
    }
   ],
   "source": [
    "# What is the probability of rolling less than or equal to 6?\n",
    "die_distribution.cdf(6)"
   ]
  },
  {
   "cell_type": "code",
   "execution_count": 42,
   "metadata": {},
   "outputs": [
    {
     "data": {
      "text/plain": [
       "4.0"
      ]
     },
     "execution_count": 42,
     "metadata": {},
     "output_type": "execute_result"
    }
   ],
   "source": [
    "# There's a 1 in 3 chance that I'll roll higher than what number?\n",
    "die_distribution.isf(1/3)"
   ]
  },
  {
   "cell_type": "code",
   "execution_count": 43,
   "metadata": {},
   "outputs": [
    {
     "data": {
      "text/plain": [
       "0.8333333333333334"
      ]
     },
     "execution_count": 43,
     "metadata": {},
     "output_type": "execute_result"
    }
   ],
   "source": [
    "# What is the probability of rolling higher than a 1?\n",
    "die_distribution.sf(1)"
   ]
  },
  {
   "cell_type": "code",
   "execution_count": 44,
   "metadata": {},
   "outputs": [
    {
     "data": {
      "text/plain": [
       "4.0"
      ]
     },
     "execution_count": 44,
     "metadata": {},
     "output_type": "execute_result"
    }
   ],
   "source": [
    "# There's a 2 in 3 chance that my roll will be less than or equal to what number?\n",
    "die_distribution.ppf(2/3)"
   ]
  },
  {
   "cell_type": "code",
   "execution_count": 45,
   "metadata": {},
   "outputs": [
    {
     "data": {
      "text/plain": [
       "2.0"
      ]
     },
     "execution_count": 45,
     "metadata": {},
     "output_type": "execute_result"
    }
   ],
   "source": [
    "# There's a 2 in 3 chance that I'll roll higher than what number?\n",
    "die_distribution.isf(2/3)"
   ]
  },
  {
   "cell_type": "code",
   "execution_count": 46,
   "metadata": {},
   "outputs": [
    {
     "data": {
      "text/plain": [
       "2.0"
      ]
     },
     "execution_count": 46,
     "metadata": {},
     "output_type": "execute_result"
    }
   ],
   "source": [
    "# There's a 1 in 3 chance that my roll will be less than or equal to what number?\n",
    "die_distribution.ppf(1/3)"
   ]
  },
  {
   "cell_type": "code",
   "execution_count": 47,
   "metadata": {},
   "outputs": [
    {
     "data": {
      "text/plain": [
       "5.0"
      ]
     },
     "execution_count": 47,
     "metadata": {},
     "output_type": "execute_result"
    }
   ],
   "source": [
    "# There's a 1 in 6 chance that I'll roll higher than what number?\n",
    "die_distribution.isf(1/6)"
   ]
  },
  {
   "cell_type": "code",
   "execution_count": null,
   "metadata": {},
   "outputs": [],
   "source": []
  },
  {
   "cell_type": "markdown",
   "metadata": {},
   "source": [
    "### Binomial Distribution\n",
    "\n",
    "\n",
    "The binomial distribution lets us model the number of successes after a number of trials, given a certain probability of success. The classic example of this is the number of heads you would expect to see after flipping a coin a certain number of times.\n",
    "\n",
    "\n",
    "A binomial distribution is defined by a number of trials, and a probability of success. These two pieces of information are what we need in order to model a problem with the binomial distribution.\n",
    "\n",
    "\n",
    "The binomial distribution assumes that each trial is independent of the others.\n",
    "\n",
    "Let's take an example:\n",
    "\n",
    "    You are taking a multiple choice test consisting of 30 questions that you forgot to study for. Each question has 4 possible answers and you will choose one at random. What is the probability you get more than 10 of the questions right?\n",
    "\n",
    "Here we have a probability of success, 0.25, and a number of trials, 30. We'll define X as the number of questions we get right on the test. We want to know the probability that X > 10, which tells us we want to use the survival function.\n"
   ]
  },
  {
   "cell_type": "code",
   "execution_count": 48,
   "metadata": {},
   "outputs": [
    {
     "data": {
      "text/plain": [
       "0.21875000000000014"
      ]
     },
     "execution_count": 48,
     "metadata": {},
     "output_type": "execute_result"
    }
   ],
   "source": [
    "# The prob of getting heads on exactly 3 coins out of 8 tosses Nice!\n",
    "stats.binom(8, .5).pmf(3)   # 8 coins, p = .5"
   ]
  },
  {
   "cell_type": "code",
   "execution_count": 49,
   "metadata": {},
   "outputs": [
    {
     "data": {
      "text/plain": [
       "0.6367187499999999"
      ]
     },
     "execution_count": 49,
     "metadata": {},
     "output_type": "execute_result"
    }
   ],
   "source": [
    "# The prob of getting heads on 3 or more tosses of 8 coins\n",
    "stats.binom(8, .5).sf(3) "
   ]
  },
  {
   "cell_type": "code",
   "execution_count": 51,
   "metadata": {},
   "outputs": [
    {
     "data": {
      "text/plain": [
       "array([4, 4, 3, 3, 5, 3, 5, 4, 4, 6, 5, 3, 2, 3, 4, 5, 7, 3, 5, 4, 5, 3,\n",
       "       4, 3, 3, 4, 5, 2, 2, 3, 5, 5, 4, 5, 4, 3, 3, 3, 5, 3, 4, 4, 4, 0,\n",
       "       7, 6, 3, 3, 4, 6, 7, 3, 4, 5, 4, 5, 3, 4, 6, 7, 2, 4, 3, 4, 4, 2,\n",
       "       3, 6, 4, 4, 5, 5, 2, 5, 5, 3, 5, 3, 3, 5, 2, 5, 6, 5, 4, 4, 5, 4,\n",
       "       2, 4, 5, 3, 6, 5, 4, 5, 2, 6, 5, 6])"
      ]
     },
     "execution_count": 51,
     "metadata": {},
     "output_type": "execute_result"
    }
   ],
   "source": [
    "# The number of times I get heads out of 100 simulations of random values\n",
    "stats.binom(8, .5).rvs(100)"
   ]
  },
  {
   "cell_type": "code",
   "execution_count": 52,
   "metadata": {},
   "outputs": [
    {
     "data": {
      "text/plain": [
       "0.027000000000000007"
      ]
     },
     "execution_count": 52,
     "metadata": {},
     "output_type": "execute_result"
    }
   ],
   "source": [
    "# Food Truck example done this way, a way to check your simulations and how you set them up\n",
    "stats.binom(3, .7).pmf(0)     # The likelihood that there has not been a food truck in 3 days"
   ]
  },
  {
   "cell_type": "code",
   "execution_count": 53,
   "metadata": {},
   "outputs": [
    {
     "data": {
      "text/plain": [
       "0.99757"
      ]
     },
     "execution_count": 53,
     "metadata": {},
     "output_type": "execute_result"
    }
   ],
   "source": [
    "# The likelihood that there is a food truck in 5 days\n",
    "stats.binom(5, .7).sf(0)    "
   ]
  },
  {
   "cell_type": "code",
   "execution_count": null,
   "metadata": {},
   "outputs": [],
   "source": [
    "# The likelihood that there is a food truck in a five day period for 52 weeks or one year\n",
    "stats.binom(5, .7).sf(0).rvs(52)   "
   ]
  },
  {
   "cell_type": "code",
   "execution_count": null,
   "metadata": {},
   "outputs": [],
   "source": []
  },
  {
   "cell_type": "markdown",
   "metadata": {},
   "source": [
    "### Normal Distribution\n",
    "\n",
    "The normal distribution models a continuous random variable where the further away from the mean you are, the less likely the outcome. This is commonly referred to as the \"bell curve\", and many continous variables tend to follow a normal distribution.\n",
    "\n",
    "A normal distribution is defined by a mean and a standard deviation. The standard normal distribution is a normal distribution with a mean of 0 and standard deviation of 1.\n",
    "\n",
    "    Suppose that a store's daily sales are normally distributed with a mean of 12,000 dollars and standard deviation of 2000 dollars. How much would the daily sales have to be to be in the top 10% of all days?\n",
    "\n",
    "Here we are given the mean and standard deviation, and are asked to find the value that corresponds to the top 10%. Here, since we know the probability and want a value, we can use the percent point function to find our answer."
   ]
  },
  {
   "cell_type": "code",
   "execution_count": 54,
   "metadata": {},
   "outputs": [
    {
     "data": {
      "text/plain": [
       "<scipy.stats._distn_infrastructure.rv_frozen at 0x1a18b42a90>"
      ]
     },
     "execution_count": 54,
     "metadata": {},
     "output_type": "execute_result"
    }
   ],
   "source": [
    "# distribution object to interrogate\n",
    "stats.norm(12000, 2000)"
   ]
  },
  {
   "cell_type": "code",
   "execution_count": 55,
   "metadata": {},
   "outputs": [
    {
     "data": {
      "text/plain": [
       "0.8413447460685429"
      ]
     },
     "execution_count": 55,
     "metadata": {},
     "output_type": "execute_result"
    }
   ],
   "source": [
    "# What's the likelihood we sell more than $10,000?\n",
    "stats.norm(12000, 2000).sf(10000)\n",
    "\n",
    "# 84% chance our sales are more than $10,000"
   ]
  },
  {
   "cell_type": "code",
   "execution_count": 57,
   "metadata": {},
   "outputs": [
    {
     "data": {
      "text/plain": [
       "8710.292746097053"
      ]
     },
     "execution_count": 57,
     "metadata": {},
     "output_type": "execute_result"
    }
   ],
   "source": [
    "# What's the cutoff point that determines whether a day is in the bottom 5% of all sales?\n",
    "stats.norm(12000, 2000).ppf(.05)\n",
    "\n",
    "# If the sales for the day fall below 8710, it falls in the bottom  5% of all sales days"
   ]
  },
  {
   "cell_type": "code",
   "execution_count": 58,
   "metadata": {},
   "outputs": [
    {
     "data": {
      "text/plain": [
       "14563.103131089201"
      ]
     },
     "execution_count": 58,
     "metadata": {},
     "output_type": "execute_result"
    }
   ],
   "source": [
    "# What's the cutoff point that determines whether a day is in the top 10% of all sales?\n",
    "stats.norm(12000, 2000).isf(.1)\n",
    "\n",
    "# For the sales of a day to be in the top 10%, they have to be above $14,563"
   ]
  },
  {
   "cell_type": "code",
   "execution_count": 59,
   "metadata": {},
   "outputs": [
    {
     "data": {
      "text/plain": [
       "14563.103131089201"
      ]
     },
     "execution_count": 59,
     "metadata": {},
     "output_type": "execute_result"
    }
   ],
   "source": [
    "# This is the inverse of the above code which returns the same value\n",
    "stats.norm(12000, 2000).ppf(.9)"
   ]
  },
  {
   "cell_type": "markdown",
   "metadata": {},
   "source": [
    "### Poisson Distribution - events happen over specified time interval\n",
    "\n",
    "\n",
    "-The poisson distribution lets us model a situation where a certain number of events happen over a specified time interval1. The number of events that happen is a discrete measure, and this distribution can tell us the likelihood of a certain number of events occuring over the time period.\n",
    "\n",
    "-The poisson distribution assumes that the events are indpendent of each other and independent of the time since the last event. We must also know the average rate to use a poisson distribution.\n",
    "\n",
    "-The outcome of a poisson is discrete, not continuous like the normal dist.\n",
    "\n",
    "-Some examples of real-world processes that can be modeled with a poisson distribution are:\n",
    "\n",
    "    -The number of emails sent by a mail server in a day\n",
    "\n",
    "    -The number of phone calls received by a call center per hour\n",
    "    \n",
    "    -The number of decay events per second from a radioactive source\n",
    "    \n",
    "    -Let's dive into a specific example:\n",
    "\n",
    "    Codeup knows that, on average, students consume 5 lbs of coffee per week. "
   ]
  },
  {
   "cell_type": "code",
   "execution_count": 61,
   "metadata": {},
   "outputs": [
    {
     "data": {
      "text/plain": [
       "0.1403738958142805"
      ]
     },
     "execution_count": 61,
     "metadata": {},
     "output_type": "execute_result"
    }
   ],
   "source": [
    "# How likely is it that the coffee consumption for this week is only 3 lbs?\n",
    "stats.poisson(5).pmf(3)\n",
    "# There is about a 14% chance"
   ]
  },
  {
   "cell_type": "code",
   "execution_count": 67,
   "metadata": {},
   "outputs": [
    {
     "data": {
      "text/plain": [
       "5.10497804862988e-10"
      ]
     },
     "execution_count": 67,
     "metadata": {},
     "output_type": "execute_result"
    }
   ],
   "source": [
    "# 300 tacos per lunch / lunch\n",
    "# How likely is it that we sell only 200 or fewer tacos?\n",
    "stats.poisson(300).cdf(200)\n",
    "# There is about a 5% chance"
   ]
  },
  {
   "cell_type": "code",
   "execution_count": null,
   "metadata": {},
   "outputs": [],
   "source": [
    "# taco cutoff for the top 10% of busiest lunches\n",
    "stats.poisson(300).isf(.1)"
   ]
  },
  {
   "cell_type": "code",
   "execution_count": null,
   "metadata": {},
   "outputs": [],
   "source": []
  },
  {
   "cell_type": "code",
   "execution_count": null,
   "metadata": {},
   "outputs": [],
   "source": []
  },
  {
   "cell_type": "markdown",
   "metadata": {},
   "source": [
    "What is the likelihood that more than 7 lbs of coffee are consumed?\n",
    "\n"
   ]
  },
  {
   "cell_type": "code",
   "execution_count": 68,
   "metadata": {},
   "outputs": [
    {
     "data": {
      "text/plain": [
       "0.13337167407000744"
      ]
     },
     "execution_count": 68,
     "metadata": {},
     "output_type": "execute_result"
    }
   ],
   "source": [
    "stats.poisson(5).sf(7)\n",
    "# There's about a 13% chance of this happening"
   ]
  },
  {
   "cell_type": "markdown",
   "metadata": {},
   "source": [
    "### More Normal Examples"
   ]
  },
  {
   "cell_type": "code",
   "execution_count": null,
   "metadata": {},
   "outputs": [],
   "source": [
    "# Suppose the average Codeup admissions phone call is 15 mins long with a standard deviation of 3\n",
    "# How likely s it that a phone call will go on for 20 mins or longer?\n"
   ]
  },
  {
   "cell_type": "code",
   "execution_count": 62,
   "metadata": {},
   "outputs": [
    {
     "data": {
      "text/plain": [
       "0.0477903522728147"
      ]
     },
     "execution_count": 62,
     "metadata": {},
     "output_type": "execute_result"
    }
   ],
   "source": [
    "# Both of these will get you the answer to the question above...\n",
    "stats.norm(15, 3).sf(20)"
   ]
  },
  {
   "cell_type": "code",
   "execution_count": 65,
   "metadata": {},
   "outputs": [
    {
     "data": {
      "text/plain": [
       "0.047790352272814696"
      ]
     },
     "execution_count": 65,
     "metadata": {},
     "output_type": "execute_result"
    }
   ],
   "source": [
    "1 - stats.norm(15, 3).cdf(20)"
   ]
  },
  {
   "cell_type": "code",
   "execution_count": 66,
   "metadata": {},
   "outputs": [
    {
     "data": {
      "text/plain": [
       "12.976530749411754"
      ]
     },
     "execution_count": 66,
     "metadata": {},
     "output_type": "execute_result"
    }
   ],
   "source": [
    "# how quick does a phone call finish if it is in the bottom 25% of all phone calls?\n",
    "stats.norm(15, 3).ppf(.25)\n",
    "# 12.98 min phone call is the cutoff for the bottom quartile of phone call length"
   ]
  },
  {
   "cell_type": "code",
   "execution_count": null,
   "metadata": {},
   "outputs": [],
   "source": [
    "NOTE: option + m µ\n",
    "    "
   ]
  }
 ],
 "metadata": {
  "kernelspec": {
   "display_name": "Python 3",
   "language": "python",
   "name": "python3"
  },
  "language_info": {
   "codemirror_mode": {
    "name": "ipython",
    "version": 3
   },
   "file_extension": ".py",
   "mimetype": "text/x-python",
   "name": "python",
   "nbconvert_exporter": "python",
   "pygments_lexer": "ipython3",
   "version": "3.7.3"
  }
 },
 "nbformat": 4,
 "nbformat_minor": 2
}
