{
 "cells": [
  {
   "cell_type": "markdown",
   "metadata": {},
   "source": [
    "## Statistics != Data Science\n",
    "\n",
    "    It's a tool of data scientists\n",
    "    \n",
    "    We are working with experiemental probability, not theoretical\n",
    "    \n",
    "    You HAVE to be able to imagine the dataset you need to solve the problem\n",
    "    before you figure out how to code it in Python.\n"
   ]
  },
  {
   "cell_type": "code",
   "execution_count": 52,
   "metadata": {},
   "outputs": [],
   "source": [
    "# interactive matplotlib plots\n",
    "%matplotlib notebook\n",
    "import numpy as np\n",
    "import pandas as pd\n",
    "\n",
    "#import viz # curriculum example visualizations\n",
    "\n",
    "np.random.seed(123)"
   ]
  },
  {
   "cell_type": "markdown",
   "metadata": {},
   "source": [
    "## Generating Random Numbers with Numpy\n"
   ]
  },
  {
   "cell_type": "markdown",
   "metadata": {},
   "source": [
    "The numpy.random module provides a number of functions for generating random numbers.\n",
    "\n",
    "    np.random.choice: selects random options from a list\n",
    "\n",
    "    np.random.uniform: generates numbers between a given lower and upper bound\n",
    "\n",
    "    np.random.random: generates numbers between 0 and 1\n",
    "\n",
    "    np.random.randn: generates numbers from the standard normal distribution\n",
    "\n",
    "    np.random.normal: generates numbers from a normal distribution with a specified mean and standard deviation"
   ]
  },
  {
   "cell_type": "code",
   "execution_count": 53,
   "metadata": {},
   "outputs": [
    {
     "data": {
      "text/plain": [
       "array([[3, 2, 3, 3, 1, 3, 3, 2, 4, 3],\n",
       "       [4, 2, 3, 2, 1, 2, 3, 4, 2, 1],\n",
       "       [3, 1, 4, 2, 4, 3, 2, 1, 1, 1]])"
      ]
     },
     "execution_count": 53,
     "metadata": {},
     "output_type": "execute_result"
    }
   ],
   "source": [
    "# choice(array, size=None, replace=True, p=None)\n",
    "np.random.choice([1, 2, 3, 4], (3, 10))"
   ]
  },
  {
   "cell_type": "code",
   "execution_count": 54,
   "metadata": {},
   "outputs": [
    {
     "data": {
      "text/plain": [
       "array([[17.37995406, 11.8249173 , 11.75451756, 15.31551374],\n",
       "       [15.31827587, 16.34400959, 18.49431794, 17.24455325],\n",
       "       [16.11023511, 17.22443383, 13.22958914, 13.61788656],\n",
       "       [12.28263231, 12.93714046, 16.30976124, 10.9210494 ]])"
      ]
     },
     "execution_count": 54,
     "metadata": {},
     "output_type": "execute_result"
    }
   ],
   "source": [
    "#\n",
    "np.random.uniform(10, 20, (4, 4))"
   ]
  },
  {
   "cell_type": "code",
   "execution_count": 55,
   "metadata": {},
   "outputs": [
    {
     "data": {
      "text/plain": [
       "array([[0.43370117, 0.43086276, 0.4936851 , 0.42583029],\n",
       "       [0.31226122, 0.42635131, 0.89338916, 0.94416002],\n",
       "       [0.50183668, 0.62395295, 0.1156184 , 0.31728548],\n",
       "       [0.41482621, 0.86630916, 0.25045537, 0.48303426]])"
      ]
     },
     "execution_count": 55,
     "metadata": {},
     "output_type": "execute_result"
    }
   ],
   "source": [
    "#\n",
    "np.random.random((4,4))"
   ]
  },
  {
   "cell_type": "code",
   "execution_count": 56,
   "metadata": {},
   "outputs": [
    {
     "data": {
      "text/plain": [
       "array([[ 0.01353855,  0.33737412, -0.92662298],\n",
       "       [ 0.27574741,  0.37085233,  1.17430715],\n",
       "       [-2.03229248,  0.58250829, -0.7211758 ],\n",
       "       [-1.7024236 ,  0.76764147,  0.37067905],\n",
       "       [ 2.07545935,  0.12775769,  1.79988945],\n",
       "       [ 1.23836635,  0.91375695,  0.46626803],\n",
       "       [ 0.12503966, -0.19765092, -0.72803492],\n",
       "       [-0.61031342, -0.87304897,  0.15646903],\n",
       "       [ 0.28655207,  0.8677178 ,  1.26751791],\n",
       "       [ 2.10783998, -0.23608945, -0.23208183]])"
      ]
     },
     "execution_count": 56,
     "metadata": {},
     "output_type": "execute_result"
    }
   ],
   "source": [
    "# numbers from standard normal dist\n",
    "np.random.randn(10,3)"
   ]
  },
  {
   "cell_type": "code",
   "execution_count": 57,
   "metadata": {},
   "outputs": [
    {
     "data": {
      "text/plain": [
       "array([[ 6.76558177, 13.48955361],\n",
       "       [11.56747022, 15.53309564]])"
      ]
     },
     "execution_count": 57,
     "metadata": {},
     "output_type": "execute_result"
    }
   ],
   "source": [
    "# takes in mean and std and size\n",
    "np.random.normal(10, 3, (2, 2))"
   ]
  },
  {
   "cell_type": "markdown",
   "metadata": {},
   "source": [
    "### Example Problems\n",
    "\n",
    "#### Carnival Dice Rolls\n",
    "    You are at a carnival and come across a person in a booth offering you a game of \"chance\" (as people in booths at carnivals tend to do).\n",
    "\n",
    "    You pay 5 dollars and roll 3 dice. If the sum of the dice rolls is greater than 12, you get 15 dollars. If it's less than or equal to 12, you get nothing.\n",
    "\n",
    "    Assuming the dice are fair, should you play this game? How would this change if the winning condition was a sum greater than or equal to 12?"
   ]
  },
  {
   "cell_type": "markdown",
   "metadata": {},
   "source": [
    "#### The point is to write code that simulates this experiement"
   ]
  },
  {
   "cell_type": "code",
   "execution_count": 58,
   "metadata": {},
   "outputs": [
    {
     "data": {
      "text/plain": [
       "array([[4, 5, 6],\n",
       "       [5, 2, 5],\n",
       "       [5, 4, 5],\n",
       "       [4, 1, 6]])"
      ]
     },
     "execution_count": 58,
     "metadata": {},
     "output_type": "execute_result"
    }
   ],
   "source": [
    "ntrials = nrows = 4\n",
    "n_dice_rolled = ncols = 3\n",
    "# rolls = np.random.choice([1, 2, 3, 4, 5, 6], n_trials * n_dice).reshape(nrows, ncols)\n",
    "rolls = np.random.choice([1, 2, 3, 4, 5,6], (ntrials, n_dice_rolled))\n",
    "rolls\n"
   ]
  },
  {
   "cell_type": "code",
   "execution_count": 59,
   "metadata": {},
   "outputs": [
    {
     "data": {
      "text/plain": [
       "array([15, 12, 14, 11])"
      ]
     },
     "execution_count": 59,
     "metadata": {},
     "output_type": "execute_result"
    }
   ],
   "source": [
    "# default is to sum the whole thing\n",
    "# axis=0 or axis=1\n",
    "rolls.sum(axis=1)"
   ]
  },
  {
   "cell_type": "code",
   "execution_count": 60,
   "metadata": {},
   "outputs": [
    {
     "data": {
      "text/plain": [
       "array([ True, False,  True, False])"
      ]
     },
     "execution_count": 60,
     "metadata": {},
     "output_type": "execute_result"
    }
   ],
   "source": [
    "# creates bool for win or loss\n",
    "rolls.sum(axis=1) > 12"
   ]
  },
  {
   "cell_type": "code",
   "execution_count": 61,
   "metadata": {},
   "outputs": [],
   "source": [
    "# You can do this without .astype(int) and numpy will convert it for you\n",
    "# probability of winning\n",
    "p_win = (rolls.sum(axis=1) > 12).mean()"
   ]
  },
  {
   "cell_type": "code",
   "execution_count": 62,
   "metadata": {},
   "outputs": [
    {
     "data": {
      "text/plain": [
       "2.5"
      ]
     },
     "execution_count": 62,
     "metadata": {},
     "output_type": "execute_result"
    }
   ],
   "source": [
    "amount_we_win = 15\n",
    "cost = 5\n",
    "\n",
    "expected_winnings = p_win * amount_we_win\n",
    "\n",
    "profit = expected_winnings - cost\n",
    "profit"
   ]
  },
  {
   "cell_type": "markdown",
   "metadata": {},
   "source": [
    "### No Rest or Relaxation\n"
   ]
  },
  {
   "cell_type": "code",
   "execution_count": 63,
   "metadata": {},
   "outputs": [
    {
     "data": {
      "text/plain": [
       "array([[False,  True],\n",
       "       [ True, False],\n",
       "       [ True, False],\n",
       "       [False, False],\n",
       "       [ True, False],\n",
       "       [ True, False],\n",
       "       [False,  True],\n",
       "       [ True, False],\n",
       "       [False, False],\n",
       "       [False, False]])"
      ]
     },
     "execution_count": 63,
     "metadata": {},
     "output_type": "execute_result"
    }
   ],
   "source": [
    "p_nap = .3\n",
    "naps = np.random.random((10, 2)) <= p_nap\n",
    "naps"
   ]
  },
  {
   "cell_type": "code",
   "execution_count": 64,
   "metadata": {},
   "outputs": [
    {
     "data": {
      "text/plain": [
       "array([1, 1, 1, 0, 1, 1, 1, 1, 0, 0])"
      ]
     },
     "execution_count": 64,
     "metadata": {},
     "output_type": "execute_result"
    }
   ],
   "source": [
    "naps.sum(axis=1)"
   ]
  },
  {
   "cell_type": "code",
   "execution_count": 65,
   "metadata": {},
   "outputs": [
    {
     "data": {
      "text/plain": [
       "array([ True,  True,  True, False,  True,  True,  True,  True, False,\n",
       "       False])"
      ]
     },
     "execution_count": 65,
     "metadata": {},
     "output_type": "execute_result"
    }
   ],
   "source": [
    "(naps.sum(axis=1) >= 1)"
   ]
  },
  {
   "cell_type": "code",
   "execution_count": 66,
   "metadata": {},
   "outputs": [
    {
     "data": {
      "text/plain": [
       "0.7"
      ]
     },
     "execution_count": 66,
     "metadata": {},
     "output_type": "execute_result"
    }
   ],
   "source": [
    "# probability of one nap in a weekend\n",
    "(naps.sum(axis=1) >= 1).mean()"
   ]
  },
  {
   "cell_type": "code",
   "execution_count": 67,
   "metadata": {},
   "outputs": [
    {
     "data": {
      "text/plain": [
       "0.3"
      ]
     },
     "execution_count": 67,
     "metadata": {},
     "output_type": "execute_result"
    }
   ],
   "source": [
    "# probability of zero naps taken in a weekend\n",
    "(naps.sum(axis=1) == 0).mean()"
   ]
  },
  {
   "cell_type": "markdown",
   "metadata": {},
   "source": [
    "### One With Dataframes\n",
    "\n",
    "    What is the probability of getting at least one 3 in 3 dice rolls?\n",
    "\n",
    "    To simulate this, we'll use a similar strategy to how we modeled the dice rolls in the previous example, but this time, we'll store the results in a pandas dataframe so that we can apply a lambda function that will check to see if one of the rolls was a 3."
   ]
  },
  {
   "cell_type": "code",
   "execution_count": 68,
   "metadata": {},
   "outputs": [
    {
     "data": {
      "text/plain": [
       "array([[1, 2, 4],\n",
       "       [2, 1, 6],\n",
       "       [2, 3, 6],\n",
       "       [3, 3, 6],\n",
       "       [2, 4, 3]])"
      ]
     },
     "execution_count": 68,
     "metadata": {},
     "output_type": "execute_result"
    }
   ],
   "source": [
    "n_trials = 5\n",
    "n_dice_rolled = 3\n",
    "\n",
    "rolls = np.random.choice([1, 2, 3, 4, 5, 6], (n_trials, n_dice_rolled))\n",
    "rolls"
   ]
  },
  {
   "cell_type": "code",
   "execution_count": 69,
   "metadata": {},
   "outputs": [
    {
     "data": {
      "text/html": [
       "<div>\n",
       "<style scoped>\n",
       "    .dataframe tbody tr th:only-of-type {\n",
       "        vertical-align: middle;\n",
       "    }\n",
       "\n",
       "    .dataframe tbody tr th {\n",
       "        vertical-align: top;\n",
       "    }\n",
       "\n",
       "    .dataframe thead th {\n",
       "        text-align: right;\n",
       "    }\n",
       "</style>\n",
       "<table border=\"1\" class=\"dataframe\">\n",
       "  <thead>\n",
       "    <tr style=\"text-align: right;\">\n",
       "      <th></th>\n",
       "      <th>0</th>\n",
       "      <th>1</th>\n",
       "      <th>2</th>\n",
       "    </tr>\n",
       "  </thead>\n",
       "  <tbody>\n",
       "    <tr>\n",
       "      <th>0</th>\n",
       "      <td>1</td>\n",
       "      <td>2</td>\n",
       "      <td>4</td>\n",
       "    </tr>\n",
       "    <tr>\n",
       "      <th>1</th>\n",
       "      <td>2</td>\n",
       "      <td>1</td>\n",
       "      <td>6</td>\n",
       "    </tr>\n",
       "    <tr>\n",
       "      <th>2</th>\n",
       "      <td>2</td>\n",
       "      <td>3</td>\n",
       "      <td>6</td>\n",
       "    </tr>\n",
       "    <tr>\n",
       "      <th>3</th>\n",
       "      <td>3</td>\n",
       "      <td>3</td>\n",
       "      <td>6</td>\n",
       "    </tr>\n",
       "    <tr>\n",
       "      <th>4</th>\n",
       "      <td>2</td>\n",
       "      <td>4</td>\n",
       "      <td>3</td>\n",
       "    </tr>\n",
       "  </tbody>\n",
       "</table>\n",
       "</div>"
      ],
      "text/plain": [
       "   0  1  2\n",
       "0  1  2  4\n",
       "1  2  1  6\n",
       "2  2  3  6\n",
       "3  3  3  6\n",
       "4  2  4  3"
      ]
     },
     "execution_count": 69,
     "metadata": {},
     "output_type": "execute_result"
    }
   ],
   "source": [
    "df = pd.DataFrame(rolls)\n",
    "df"
   ]
  },
  {
   "cell_type": "code",
   "execution_count": 70,
   "metadata": {},
   "outputs": [
    {
     "data": {
      "text/plain": [
       "0    False\n",
       "1    False\n",
       "2     True\n",
       "3     True\n",
       "4     True\n",
       "dtype: bool"
      ]
     },
     "execution_count": 70,
     "metadata": {},
     "output_type": "execute_result"
    }
   ],
   "source": [
    "# We need to apply a function row by row which returns\n",
    "# True or False for 3 in the row\n",
    "# .values is a Pandas Series\n",
    "df.apply(lambda row: 3 in row.values, axis=1)"
   ]
  },
  {
   "cell_type": "code",
   "execution_count": 71,
   "metadata": {},
   "outputs": [
    {
     "data": {
      "text/plain": [
       "0.6"
      ]
     },
     "execution_count": 71,
     "metadata": {},
     "output_type": "execute_result"
    }
   ],
   "source": [
    "# converts above to probability\n",
    "df.apply(lambda row: 3 in row.values, axis=1).mean()"
   ]
  },
  {
   "cell_type": "markdown",
   "metadata": {},
   "source": [
    "#### Explanation of lambda parts above"
   ]
  },
  {
   "cell_type": "code",
   "execution_count": 72,
   "metadata": {},
   "outputs": [
    {
     "data": {
      "text/plain": [
       "0    3\n",
       "1    2\n",
       "2    2\n",
       "dtype: int64"
      ]
     },
     "execution_count": 72,
     "metadata": {},
     "output_type": "execute_result"
    }
   ],
   "source": [
    "s = pd.Series([3, 2, 2])\n",
    "s"
   ]
  },
  {
   "cell_type": "code",
   "execution_count": 73,
   "metadata": {},
   "outputs": [
    {
     "data": {
      "text/plain": [
       "array([3, 2, 2])"
      ]
     },
     "execution_count": 73,
     "metadata": {},
     "output_type": "execute_result"
    }
   ],
   "source": [
    "# converts this to a Numpy array\n",
    "s.values"
   ]
  },
  {
   "cell_type": "code",
   "execution_count": 74,
   "metadata": {},
   "outputs": [
    {
     "data": {
      "text/plain": [
       "True"
      ]
     },
     "execution_count": 74,
     "metadata": {},
     "output_type": "execute_result"
    }
   ],
   "source": [
    "3 in s.values"
   ]
  },
  {
   "cell_type": "code",
   "execution_count": null,
   "metadata": {},
   "outputs": [],
   "source": []
  },
  {
   "cell_type": "markdown",
   "metadata": {},
   "source": [
    "## Exercises"
   ]
  },
  {
   "cell_type": "markdown",
   "metadata": {},
   "source": [
    "1. How likely is it that you roll doubles when rolling two dice?\n",
    "\n"
   ]
  },
  {
   "cell_type": "code",
   "execution_count": 76,
   "metadata": {
    "scrolled": true
   },
   "outputs": [
    {
     "data": {
      "text/plain": [
       "array([[6, 6],\n",
       "       [1, 1],\n",
       "       [4, 2],\n",
       "       [1, 3],\n",
       "       [2, 6],\n",
       "       [4, 1],\n",
       "       [5, 1],\n",
       "       [5, 2],\n",
       "       [4, 6],\n",
       "       [2, 1]])"
      ]
     },
     "execution_count": 76,
     "metadata": {},
     "output_type": "execute_result"
    }
   ],
   "source": [
    "n_trials = nrows = 10\n",
    "n_dice = ncols = 2\n",
    "\n",
    "rolls = np.random.choice([1, 2, 3, 4, 5, 6], n_trials * n_dice).reshape(nrows, ncols)\n",
    "rolls"
   ]
  },
  {
   "cell_type": "code",
   "execution_count": 91,
   "metadata": {
    "scrolled": true
   },
   "outputs": [
    {
     "data": {
      "text/plain": [
       "array([ True,  True, False, False, False, False, False, False, False,\n",
       "       False])"
      ]
     },
     "execution_count": 91,
     "metadata": {},
     "output_type": "execute_result"
    }
   ],
   "source": [
    "# function to create a bool list returning True for doubles rolled\n",
    "def doubles_trial(rolls):\n",
    "    return np.array([roll[0] == roll[1] for roll in rolls])\n",
    "doubles_bool = doubles_trial(rolls)\n",
    "doubles_bool\n",
    "#doubles_bool = pd.Series(doubles_bool)"
   ]
  },
  {
   "cell_type": "code",
   "execution_count": 92,
   "metadata": {},
   "outputs": [
    {
     "data": {
      "text/plain": [
       "0.2"
      ]
     },
     "execution_count": 92,
     "metadata": {},
     "output_type": "execute_result"
    }
   ],
   "source": [
    "doubles_rate = doubles_bool.mean()\n",
    "doubles_rate"
   ]
  },
  {
   "cell_type": "markdown",
   "metadata": {},
   "source": [
    "2. If you flip 8 coins, what is the probability of getting exactly 3 heads? What is the probability of getting more than 3 heads?\n",
    "\n",
    " "
   ]
  },
  {
   "cell_type": "code",
   "execution_count": 124,
   "metadata": {},
   "outputs": [
    {
     "data": {
      "text/plain": [
       "array([[1, 0, 0, 0, 1, 0, 1, 0],\n",
       "       [1, 1, 0, 0, 1, 0, 0, 1],\n",
       "       [1, 1, 1, 1, 0, 0, 1, 1],\n",
       "       [1, 0, 1, 0, 1, 1, 0, 0],\n",
       "       [0, 0, 0, 1, 0, 0, 1, 0],\n",
       "       [0, 0, 0, 1, 1, 1, 1, 0],\n",
       "       [0, 0, 1, 1, 0, 1, 0, 0],\n",
       "       [0, 0, 1, 0, 0, 0, 0, 0],\n",
       "       [1, 1, 0, 0, 0, 0, 1, 1],\n",
       "       [0, 1, 0, 0, 0, 1, 0, 1]])"
      ]
     },
     "execution_count": 124,
     "metadata": {},
     "output_type": "execute_result"
    }
   ],
   "source": [
    "n_trials = nrows = 10\n",
    "n_coins = ncols = 8\n",
    "\n",
    "flips = np.random.choice([0, 1], (n_trials, n_coins))\n",
    "flips"
   ]
  },
  {
   "cell_type": "code",
   "execution_count": 125,
   "metadata": {},
   "outputs": [
    {
     "data": {
      "text/html": [
       "<div>\n",
       "<style scoped>\n",
       "    .dataframe tbody tr th:only-of-type {\n",
       "        vertical-align: middle;\n",
       "    }\n",
       "\n",
       "    .dataframe tbody tr th {\n",
       "        vertical-align: top;\n",
       "    }\n",
       "\n",
       "    .dataframe thead th {\n",
       "        text-align: right;\n",
       "    }\n",
       "</style>\n",
       "<table border=\"1\" class=\"dataframe\">\n",
       "  <thead>\n",
       "    <tr style=\"text-align: right;\">\n",
       "      <th></th>\n",
       "      <th>0</th>\n",
       "      <th>1</th>\n",
       "      <th>2</th>\n",
       "      <th>3</th>\n",
       "      <th>4</th>\n",
       "      <th>5</th>\n",
       "      <th>6</th>\n",
       "      <th>7</th>\n",
       "    </tr>\n",
       "  </thead>\n",
       "  <tbody>\n",
       "    <tr>\n",
       "      <th>0</th>\n",
       "      <td>True</td>\n",
       "      <td>False</td>\n",
       "      <td>False</td>\n",
       "      <td>False</td>\n",
       "      <td>True</td>\n",
       "      <td>False</td>\n",
       "      <td>True</td>\n",
       "      <td>False</td>\n",
       "    </tr>\n",
       "    <tr>\n",
       "      <th>1</th>\n",
       "      <td>True</td>\n",
       "      <td>True</td>\n",
       "      <td>False</td>\n",
       "      <td>False</td>\n",
       "      <td>True</td>\n",
       "      <td>False</td>\n",
       "      <td>False</td>\n",
       "      <td>True</td>\n",
       "    </tr>\n",
       "    <tr>\n",
       "      <th>2</th>\n",
       "      <td>True</td>\n",
       "      <td>True</td>\n",
       "      <td>True</td>\n",
       "      <td>True</td>\n",
       "      <td>False</td>\n",
       "      <td>False</td>\n",
       "      <td>True</td>\n",
       "      <td>True</td>\n",
       "    </tr>\n",
       "    <tr>\n",
       "      <th>3</th>\n",
       "      <td>True</td>\n",
       "      <td>False</td>\n",
       "      <td>True</td>\n",
       "      <td>False</td>\n",
       "      <td>True</td>\n",
       "      <td>True</td>\n",
       "      <td>False</td>\n",
       "      <td>False</td>\n",
       "    </tr>\n",
       "    <tr>\n",
       "      <th>4</th>\n",
       "      <td>False</td>\n",
       "      <td>False</td>\n",
       "      <td>False</td>\n",
       "      <td>True</td>\n",
       "      <td>False</td>\n",
       "      <td>False</td>\n",
       "      <td>True</td>\n",
       "      <td>False</td>\n",
       "    </tr>\n",
       "    <tr>\n",
       "      <th>5</th>\n",
       "      <td>False</td>\n",
       "      <td>False</td>\n",
       "      <td>False</td>\n",
       "      <td>True</td>\n",
       "      <td>True</td>\n",
       "      <td>True</td>\n",
       "      <td>True</td>\n",
       "      <td>False</td>\n",
       "    </tr>\n",
       "    <tr>\n",
       "      <th>6</th>\n",
       "      <td>False</td>\n",
       "      <td>False</td>\n",
       "      <td>True</td>\n",
       "      <td>True</td>\n",
       "      <td>False</td>\n",
       "      <td>True</td>\n",
       "      <td>False</td>\n",
       "      <td>False</td>\n",
       "    </tr>\n",
       "    <tr>\n",
       "      <th>7</th>\n",
       "      <td>False</td>\n",
       "      <td>False</td>\n",
       "      <td>True</td>\n",
       "      <td>False</td>\n",
       "      <td>False</td>\n",
       "      <td>False</td>\n",
       "      <td>False</td>\n",
       "      <td>False</td>\n",
       "    </tr>\n",
       "    <tr>\n",
       "      <th>8</th>\n",
       "      <td>True</td>\n",
       "      <td>True</td>\n",
       "      <td>False</td>\n",
       "      <td>False</td>\n",
       "      <td>False</td>\n",
       "      <td>False</td>\n",
       "      <td>True</td>\n",
       "      <td>True</td>\n",
       "    </tr>\n",
       "    <tr>\n",
       "      <th>9</th>\n",
       "      <td>False</td>\n",
       "      <td>True</td>\n",
       "      <td>False</td>\n",
       "      <td>False</td>\n",
       "      <td>False</td>\n",
       "      <td>True</td>\n",
       "      <td>False</td>\n",
       "      <td>True</td>\n",
       "    </tr>\n",
       "  </tbody>\n",
       "</table>\n",
       "</div>"
      ],
      "text/plain": [
       "       0      1      2      3      4      5      6      7\n",
       "0   True  False  False  False   True  False   True  False\n",
       "1   True   True  False  False   True  False  False   True\n",
       "2   True   True   True   True  False  False   True   True\n",
       "3   True  False   True  False   True   True  False  False\n",
       "4  False  False  False   True  False  False   True  False\n",
       "5  False  False  False   True   True   True   True  False\n",
       "6  False  False   True   True  False   True  False  False\n",
       "7  False  False   True  False  False  False  False  False\n",
       "8   True   True  False  False  False  False   True   True\n",
       "9  False   True  False  False  False   True  False   True"
      ]
     },
     "execution_count": 125,
     "metadata": {},
     "output_type": "execute_result"
    }
   ],
   "source": [
    "# create a bool df of True for a heads flip\n",
    "heads_bool = flips == 1\n",
    "heads_bool\n",
    "df_heads = pd.DataFrame(heads_bool)\n",
    "df_heads"
   ]
  },
  {
   "cell_type": "code",
   "execution_count": 128,
   "metadata": {},
   "outputs": [
    {
     "data": {
      "text/plain": [
       "0.3"
      ]
     },
     "execution_count": 128,
     "metadata": {},
     "output_type": "execute_result"
    }
   ],
   "source": [
    "# probability of getting exactly 3 heads tossing 8 coins\n",
    "exactly_three = ((df_heads.sum(axis=1)) == 3).mean()\n",
    "exactly_three"
   ]
  },
  {
   "cell_type": "code",
   "execution_count": 115,
   "metadata": {},
   "outputs": [],
   "source": [
    "# probability of getting more than 3 heads tossing 8 coins\n"
   ]
  },
  {
   "cell_type": "code",
   "execution_count": 129,
   "metadata": {},
   "outputs": [
    {
     "data": {
      "text/plain": [
       "0.5"
      ]
     },
     "execution_count": 129,
     "metadata": {},
     "output_type": "execute_result"
    }
   ],
   "source": [
    "more_than_three = ((df_heads.sum(axis=1)) > 3).mean()\n",
    "more_than_three"
   ]
  },
  {
   "cell_type": "markdown",
   "metadata": {},
   "source": [
    "3. There are approximitely 3 web development cohorts for every 1 data science cohort at Codeup. Assuming that Codeup randomly selects an alumni to put on a billboard, what are the odds that the two billboards I drive past both have data science students on them?\n",
    "\n",
    "    plan:\n",
    "    \n",
    "        -generate a random pandas dataframe from a list of 1 (True data sci alum on billboard) \n",
    "            and 0 (False data sci alum on billboard)\n",
    "\n",
    "        -convert integers to bools\n",
    "\n",
    "        -sum rows and compare to 2\n",
    "\n",
    "        -take the mean to find probability"
   ]
  },
  {
   "cell_type": "code",
   "execution_count": 143,
   "metadata": {
    "collapsed": true
   },
   "outputs": [
    {
     "data": {
      "text/plain": [
       "array([[0, 1],\n",
       "       [1, 0],\n",
       "       [0, 0],\n",
       "       [0, 1],\n",
       "       [1, 1],\n",
       "       [0, 1],\n",
       "       [1, 1],\n",
       "       [1, 0],\n",
       "       [0, 0],\n",
       "       [1, 0],\n",
       "       [1, 0],\n",
       "       [1, 1],\n",
       "       [0, 0],\n",
       "       [0, 1],\n",
       "       [0, 1],\n",
       "       [1, 0],\n",
       "       [0, 0],\n",
       "       [0, 1],\n",
       "       [0, 0],\n",
       "       [0, 0],\n",
       "       [0, 1],\n",
       "       [1, 1],\n",
       "       [1, 1],\n",
       "       [1, 0],\n",
       "       [1, 0],\n",
       "       [1, 0],\n",
       "       [1, 0],\n",
       "       [0, 0],\n",
       "       [0, 0],\n",
       "       [1, 0],\n",
       "       [1, 0],\n",
       "       [1, 0],\n",
       "       [1, 1],\n",
       "       [1, 0],\n",
       "       [1, 1],\n",
       "       [1, 1],\n",
       "       [1, 0],\n",
       "       [1, 0],\n",
       "       [0, 0],\n",
       "       [0, 0],\n",
       "       [0, 0],\n",
       "       [1, 0],\n",
       "       [1, 0],\n",
       "       [0, 1],\n",
       "       [0, 1],\n",
       "       [0, 0],\n",
       "       [0, 0],\n",
       "       [0, 1],\n",
       "       [0, 0],\n",
       "       [0, 0],\n",
       "       [0, 0],\n",
       "       [1, 0],\n",
       "       [1, 0],\n",
       "       [0, 0],\n",
       "       [1, 1],\n",
       "       [1, 0],\n",
       "       [0, 0],\n",
       "       [1, 1],\n",
       "       [0, 0],\n",
       "       [1, 0],\n",
       "       [0, 0],\n",
       "       [0, 1],\n",
       "       [0, 1],\n",
       "       [1, 1],\n",
       "       [0, 1],\n",
       "       [0, 0],\n",
       "       [1, 0],\n",
       "       [0, 0],\n",
       "       [0, 0],\n",
       "       [1, 0],\n",
       "       [1, 1],\n",
       "       [0, 1],\n",
       "       [0, 0],\n",
       "       [0, 0],\n",
       "       [1, 0],\n",
       "       [0, 1],\n",
       "       [0, 0],\n",
       "       [1, 1],\n",
       "       [0, 1],\n",
       "       [1, 1],\n",
       "       [0, 0],\n",
       "       [0, 0],\n",
       "       [0, 1],\n",
       "       [0, 1],\n",
       "       [0, 1],\n",
       "       [0, 1],\n",
       "       [0, 0],\n",
       "       [0, 0],\n",
       "       [1, 1],\n",
       "       [1, 1],\n",
       "       [1, 0],\n",
       "       [1, 1],\n",
       "       [0, 1],\n",
       "       [0, 0],\n",
       "       [1, 0],\n",
       "       [1, 1],\n",
       "       [0, 0],\n",
       "       [0, 1],\n",
       "       [0, 0],\n",
       "       [0, 0]])"
      ]
     },
     "execution_count": 143,
     "metadata": {},
     "output_type": "execute_result"
    }
   ],
   "source": [
    "n_sims = 100\n",
    "n_billboards = 2\n",
    "\n",
    "drive_by = np.random.choice([1, 0], (n_sims, n_billboards))\n",
    "drive_by"
   ]
  },
  {
   "cell_type": "code",
   "execution_count": 147,
   "metadata": {
    "collapsed": true
   },
   "outputs": [
    {
     "data": {
      "text/html": [
       "<div>\n",
       "<style scoped>\n",
       "    .dataframe tbody tr th:only-of-type {\n",
       "        vertical-align: middle;\n",
       "    }\n",
       "\n",
       "    .dataframe tbody tr th {\n",
       "        vertical-align: top;\n",
       "    }\n",
       "\n",
       "    .dataframe thead th {\n",
       "        text-align: right;\n",
       "    }\n",
       "</style>\n",
       "<table border=\"1\" class=\"dataframe\">\n",
       "  <thead>\n",
       "    <tr style=\"text-align: right;\">\n",
       "      <th></th>\n",
       "      <th>0</th>\n",
       "      <th>1</th>\n",
       "    </tr>\n",
       "  </thead>\n",
       "  <tbody>\n",
       "    <tr>\n",
       "      <th>0</th>\n",
       "      <td>0</td>\n",
       "      <td>1</td>\n",
       "    </tr>\n",
       "    <tr>\n",
       "      <th>1</th>\n",
       "      <td>1</td>\n",
       "      <td>0</td>\n",
       "    </tr>\n",
       "    <tr>\n",
       "      <th>2</th>\n",
       "      <td>0</td>\n",
       "      <td>0</td>\n",
       "    </tr>\n",
       "    <tr>\n",
       "      <th>3</th>\n",
       "      <td>0</td>\n",
       "      <td>1</td>\n",
       "    </tr>\n",
       "    <tr>\n",
       "      <th>4</th>\n",
       "      <td>1</td>\n",
       "      <td>1</td>\n",
       "    </tr>\n",
       "    <tr>\n",
       "      <th>5</th>\n",
       "      <td>0</td>\n",
       "      <td>1</td>\n",
       "    </tr>\n",
       "    <tr>\n",
       "      <th>6</th>\n",
       "      <td>1</td>\n",
       "      <td>1</td>\n",
       "    </tr>\n",
       "    <tr>\n",
       "      <th>7</th>\n",
       "      <td>1</td>\n",
       "      <td>0</td>\n",
       "    </tr>\n",
       "    <tr>\n",
       "      <th>8</th>\n",
       "      <td>0</td>\n",
       "      <td>0</td>\n",
       "    </tr>\n",
       "    <tr>\n",
       "      <th>9</th>\n",
       "      <td>1</td>\n",
       "      <td>0</td>\n",
       "    </tr>\n",
       "    <tr>\n",
       "      <th>10</th>\n",
       "      <td>1</td>\n",
       "      <td>0</td>\n",
       "    </tr>\n",
       "    <tr>\n",
       "      <th>11</th>\n",
       "      <td>1</td>\n",
       "      <td>1</td>\n",
       "    </tr>\n",
       "    <tr>\n",
       "      <th>12</th>\n",
       "      <td>0</td>\n",
       "      <td>0</td>\n",
       "    </tr>\n",
       "    <tr>\n",
       "      <th>13</th>\n",
       "      <td>0</td>\n",
       "      <td>1</td>\n",
       "    </tr>\n",
       "    <tr>\n",
       "      <th>14</th>\n",
       "      <td>0</td>\n",
       "      <td>1</td>\n",
       "    </tr>\n",
       "    <tr>\n",
       "      <th>15</th>\n",
       "      <td>1</td>\n",
       "      <td>0</td>\n",
       "    </tr>\n",
       "    <tr>\n",
       "      <th>16</th>\n",
       "      <td>0</td>\n",
       "      <td>0</td>\n",
       "    </tr>\n",
       "    <tr>\n",
       "      <th>17</th>\n",
       "      <td>0</td>\n",
       "      <td>1</td>\n",
       "    </tr>\n",
       "    <tr>\n",
       "      <th>18</th>\n",
       "      <td>0</td>\n",
       "      <td>0</td>\n",
       "    </tr>\n",
       "    <tr>\n",
       "      <th>19</th>\n",
       "      <td>0</td>\n",
       "      <td>0</td>\n",
       "    </tr>\n",
       "    <tr>\n",
       "      <th>20</th>\n",
       "      <td>0</td>\n",
       "      <td>1</td>\n",
       "    </tr>\n",
       "    <tr>\n",
       "      <th>21</th>\n",
       "      <td>1</td>\n",
       "      <td>1</td>\n",
       "    </tr>\n",
       "    <tr>\n",
       "      <th>22</th>\n",
       "      <td>1</td>\n",
       "      <td>1</td>\n",
       "    </tr>\n",
       "    <tr>\n",
       "      <th>23</th>\n",
       "      <td>1</td>\n",
       "      <td>0</td>\n",
       "    </tr>\n",
       "    <tr>\n",
       "      <th>24</th>\n",
       "      <td>1</td>\n",
       "      <td>0</td>\n",
       "    </tr>\n",
       "    <tr>\n",
       "      <th>25</th>\n",
       "      <td>1</td>\n",
       "      <td>0</td>\n",
       "    </tr>\n",
       "    <tr>\n",
       "      <th>26</th>\n",
       "      <td>1</td>\n",
       "      <td>0</td>\n",
       "    </tr>\n",
       "    <tr>\n",
       "      <th>27</th>\n",
       "      <td>0</td>\n",
       "      <td>0</td>\n",
       "    </tr>\n",
       "    <tr>\n",
       "      <th>28</th>\n",
       "      <td>0</td>\n",
       "      <td>0</td>\n",
       "    </tr>\n",
       "    <tr>\n",
       "      <th>29</th>\n",
       "      <td>1</td>\n",
       "      <td>0</td>\n",
       "    </tr>\n",
       "    <tr>\n",
       "      <th>...</th>\n",
       "      <td>...</td>\n",
       "      <td>...</td>\n",
       "    </tr>\n",
       "    <tr>\n",
       "      <th>70</th>\n",
       "      <td>1</td>\n",
       "      <td>1</td>\n",
       "    </tr>\n",
       "    <tr>\n",
       "      <th>71</th>\n",
       "      <td>0</td>\n",
       "      <td>1</td>\n",
       "    </tr>\n",
       "    <tr>\n",
       "      <th>72</th>\n",
       "      <td>0</td>\n",
       "      <td>0</td>\n",
       "    </tr>\n",
       "    <tr>\n",
       "      <th>73</th>\n",
       "      <td>0</td>\n",
       "      <td>0</td>\n",
       "    </tr>\n",
       "    <tr>\n",
       "      <th>74</th>\n",
       "      <td>1</td>\n",
       "      <td>0</td>\n",
       "    </tr>\n",
       "    <tr>\n",
       "      <th>75</th>\n",
       "      <td>0</td>\n",
       "      <td>1</td>\n",
       "    </tr>\n",
       "    <tr>\n",
       "      <th>76</th>\n",
       "      <td>0</td>\n",
       "      <td>0</td>\n",
       "    </tr>\n",
       "    <tr>\n",
       "      <th>77</th>\n",
       "      <td>1</td>\n",
       "      <td>1</td>\n",
       "    </tr>\n",
       "    <tr>\n",
       "      <th>78</th>\n",
       "      <td>0</td>\n",
       "      <td>1</td>\n",
       "    </tr>\n",
       "    <tr>\n",
       "      <th>79</th>\n",
       "      <td>1</td>\n",
       "      <td>1</td>\n",
       "    </tr>\n",
       "    <tr>\n",
       "      <th>80</th>\n",
       "      <td>0</td>\n",
       "      <td>0</td>\n",
       "    </tr>\n",
       "    <tr>\n",
       "      <th>81</th>\n",
       "      <td>0</td>\n",
       "      <td>0</td>\n",
       "    </tr>\n",
       "    <tr>\n",
       "      <th>82</th>\n",
       "      <td>0</td>\n",
       "      <td>1</td>\n",
       "    </tr>\n",
       "    <tr>\n",
       "      <th>83</th>\n",
       "      <td>0</td>\n",
       "      <td>1</td>\n",
       "    </tr>\n",
       "    <tr>\n",
       "      <th>84</th>\n",
       "      <td>0</td>\n",
       "      <td>1</td>\n",
       "    </tr>\n",
       "    <tr>\n",
       "      <th>85</th>\n",
       "      <td>0</td>\n",
       "      <td>1</td>\n",
       "    </tr>\n",
       "    <tr>\n",
       "      <th>86</th>\n",
       "      <td>0</td>\n",
       "      <td>0</td>\n",
       "    </tr>\n",
       "    <tr>\n",
       "      <th>87</th>\n",
       "      <td>0</td>\n",
       "      <td>0</td>\n",
       "    </tr>\n",
       "    <tr>\n",
       "      <th>88</th>\n",
       "      <td>1</td>\n",
       "      <td>1</td>\n",
       "    </tr>\n",
       "    <tr>\n",
       "      <th>89</th>\n",
       "      <td>1</td>\n",
       "      <td>1</td>\n",
       "    </tr>\n",
       "    <tr>\n",
       "      <th>90</th>\n",
       "      <td>1</td>\n",
       "      <td>0</td>\n",
       "    </tr>\n",
       "    <tr>\n",
       "      <th>91</th>\n",
       "      <td>1</td>\n",
       "      <td>1</td>\n",
       "    </tr>\n",
       "    <tr>\n",
       "      <th>92</th>\n",
       "      <td>0</td>\n",
       "      <td>1</td>\n",
       "    </tr>\n",
       "    <tr>\n",
       "      <th>93</th>\n",
       "      <td>0</td>\n",
       "      <td>0</td>\n",
       "    </tr>\n",
       "    <tr>\n",
       "      <th>94</th>\n",
       "      <td>1</td>\n",
       "      <td>0</td>\n",
       "    </tr>\n",
       "    <tr>\n",
       "      <th>95</th>\n",
       "      <td>1</td>\n",
       "      <td>1</td>\n",
       "    </tr>\n",
       "    <tr>\n",
       "      <th>96</th>\n",
       "      <td>0</td>\n",
       "      <td>0</td>\n",
       "    </tr>\n",
       "    <tr>\n",
       "      <th>97</th>\n",
       "      <td>0</td>\n",
       "      <td>1</td>\n",
       "    </tr>\n",
       "    <tr>\n",
       "      <th>98</th>\n",
       "      <td>0</td>\n",
       "      <td>0</td>\n",
       "    </tr>\n",
       "    <tr>\n",
       "      <th>99</th>\n",
       "      <td>0</td>\n",
       "      <td>0</td>\n",
       "    </tr>\n",
       "  </tbody>\n",
       "</table>\n",
       "<p>100 rows × 2 columns</p>\n",
       "</div>"
      ],
      "text/plain": [
       "    0  1\n",
       "0   0  1\n",
       "1   1  0\n",
       "2   0  0\n",
       "3   0  1\n",
       "4   1  1\n",
       "5   0  1\n",
       "6   1  1\n",
       "7   1  0\n",
       "8   0  0\n",
       "9   1  0\n",
       "10  1  0\n",
       "11  1  1\n",
       "12  0  0\n",
       "13  0  1\n",
       "14  0  1\n",
       "15  1  0\n",
       "16  0  0\n",
       "17  0  1\n",
       "18  0  0\n",
       "19  0  0\n",
       "20  0  1\n",
       "21  1  1\n",
       "22  1  1\n",
       "23  1  0\n",
       "24  1  0\n",
       "25  1  0\n",
       "26  1  0\n",
       "27  0  0\n",
       "28  0  0\n",
       "29  1  0\n",
       ".. .. ..\n",
       "70  1  1\n",
       "71  0  1\n",
       "72  0  0\n",
       "73  0  0\n",
       "74  1  0\n",
       "75  0  1\n",
       "76  0  0\n",
       "77  1  1\n",
       "78  0  1\n",
       "79  1  1\n",
       "80  0  0\n",
       "81  0  0\n",
       "82  0  1\n",
       "83  0  1\n",
       "84  0  1\n",
       "85  0  1\n",
       "86  0  0\n",
       "87  0  0\n",
       "88  1  1\n",
       "89  1  1\n",
       "90  1  0\n",
       "91  1  1\n",
       "92  0  1\n",
       "93  0  0\n",
       "94  1  0\n",
       "95  1  1\n",
       "96  0  0\n",
       "97  0  1\n",
       "98  0  0\n",
       "99  0  0\n",
       "\n",
       "[100 rows x 2 columns]"
      ]
     },
     "execution_count": 147,
     "metadata": {},
     "output_type": "execute_result"
    }
   ],
   "source": [
    "# convert array to DataFrame\n",
    "ds_df = pd.DataFrame(drive_by)\n",
    "ds_df"
   ]
  },
  {
   "cell_type": "code",
   "execution_count": 145,
   "metadata": {
    "collapsed": true
   },
   "outputs": [
    {
     "data": {
      "text/plain": [
       "0     False\n",
       "1     False\n",
       "2     False\n",
       "3     False\n",
       "4      True\n",
       "5     False\n",
       "6      True\n",
       "7     False\n",
       "8     False\n",
       "9     False\n",
       "10    False\n",
       "11     True\n",
       "12    False\n",
       "13    False\n",
       "14    False\n",
       "15    False\n",
       "16    False\n",
       "17    False\n",
       "18    False\n",
       "19    False\n",
       "20    False\n",
       "21     True\n",
       "22     True\n",
       "23    False\n",
       "24    False\n",
       "25    False\n",
       "26    False\n",
       "27    False\n",
       "28    False\n",
       "29    False\n",
       "      ...  \n",
       "70     True\n",
       "71    False\n",
       "72    False\n",
       "73    False\n",
       "74    False\n",
       "75    False\n",
       "76    False\n",
       "77     True\n",
       "78    False\n",
       "79     True\n",
       "80    False\n",
       "81    False\n",
       "82    False\n",
       "83    False\n",
       "84    False\n",
       "85    False\n",
       "86    False\n",
       "87    False\n",
       "88     True\n",
       "89     True\n",
       "90    False\n",
       "91     True\n",
       "92    False\n",
       "93    False\n",
       "94    False\n",
       "95     True\n",
       "96    False\n",
       "97    False\n",
       "98    False\n",
       "99    False\n",
       "Length: 100, dtype: bool"
      ]
     },
     "execution_count": 145,
     "metadata": {},
     "output_type": "execute_result"
    }
   ],
   "source": [
    "# find rows that sum to 2\n",
    "ds_df.sum(axis=1) == 2"
   ]
  },
  {
   "cell_type": "code",
   "execution_count": 146,
   "metadata": {},
   "outputs": [
    {
     "data": {
      "text/plain": [
       "0.18"
      ]
     },
     "execution_count": 146,
     "metadata": {},
     "output_type": "execute_result"
    }
   ],
   "source": [
    "# probability that two billboards out of n_sims will both have data science alums on them\n",
    "prob_ds_df = (ds_df.sum(axis=1) == 2).mean()\n",
    "prob_ds_df"
   ]
  },
  {
   "cell_type": "markdown",
   "metadata": {},
   "source": [
    "4. Codeup students buy, on average, 3 poptart packages (+- 1.5) a day from the snack vending machine. If on monday the machine is restocked with 17 poptart packages, how likely is it that I will be able to buy some poptarts on Friday afternoon?\n",
    "\n",
    "Plan:\n",
    "    \n",
    "    sims = rows = n\n",
    "    days = cols = 5\n",
    "\n",
    "   np.random.normal(3, 1.5, sims)\n",
    "\n",
    "   \n",
    "\n",
    "    P(sold_tarts >= 17)"
   ]
  },
  {
   "cell_type": "code",
   "execution_count": 257,
   "metadata": {
    "scrolled": true
   },
   "outputs": [
    {
     "data": {
      "text/plain": [
       "0.277"
      ]
     },
     "execution_count": 257,
     "metadata": {},
     "output_type": "execute_result"
    }
   ],
   "source": [
    "sims = rows = 10000\n",
    "days = cols = 5\n",
    "# possible tarts sold each day for five days\n",
    "pop_sales = np.random.normal(3, 1.5, (sims, days))\n",
    "\n",
    "# put it all together\n",
    "pop_prob = (\n",
    " (pd.DataFrame(pop_sales)\n",
    "  .sum(axis=1) >= 17)\n",
    "  .mean()\n",
    ")\n",
    "pop_prob"
   ]
  },
  {
   "cell_type": "code",
   "execution_count": 256,
   "metadata": {},
   "outputs": [],
   "source": [
    "# Breakdown"
   ]
  },
  {
   "cell_type": "code",
   "execution_count": null,
   "metadata": {},
   "outputs": [],
   "source": [
    "# convert array in Pandas DataFrame\n",
    "pop_sales = pd.DataFrame(pop_sales)\n",
    "pop_sales"
   ]
  },
  {
   "cell_type": "code",
   "execution_count": 169,
   "metadata": {
    "scrolled": true
   },
   "outputs": [
    {
     "data": {
      "text/plain": [
       "array([False,  True, False, False, False, False,  True, False, False,\n",
       "       False, False, False,  True,  True,  True,  True, False,  True,\n",
       "       False, False, False, False, False, False, False, False, False,\n",
       "        True, False, False,  True, False, False,  True,  True, False,\n",
       "        True,  True, False,  True, False,  True,  True, False,  True,\n",
       "        True, False, False, False,  True,  True, False,  True, False,\n",
       "       False, False, False,  True, False,  True, False,  True, False,\n",
       "        True, False,  True, False, False,  True, False, False, False,\n",
       "       False,  True, False, False, False, False,  True, False, False,\n",
       "       False, False, False, False, False, False, False, False, False,\n",
       "       False,  True, False, False, False, False, False, False, False,\n",
       "       False])"
      ]
     },
     "execution_count": 169,
     "metadata": {},
     "output_type": "execute_result"
    }
   ],
   "source": [
    "# week has leftover poptarts for Zach\n",
    "pop_sales.sum(axis=1) >= 17"
   ]
  },
  {
   "cell_type": "code",
   "execution_count": 170,
   "metadata": {},
   "outputs": [
    {
     "data": {
      "text/plain": [
       "0.3"
      ]
     },
     "execution_count": 170,
     "metadata": {},
     "output_type": "execute_result"
    }
   ],
   "source": [
    "# probability Zach can get a poptart on Friday\n",
    "(pop_sales.sum(axis=1) >= 17).mean()"
   ]
  },
  {
   "cell_type": "markdown",
   "metadata": {},
   "source": [
    "5. Compare Heights\n",
    "\n",
    "    Men have an average height of 178 cm and standard deviation of 8cm.\n",
    "    \n",
    "    Women have a mean of 170, sd = 6cm.\n",
    "    \n",
    "    If a man and woman are chosen at random, P(woman taller than man)?\n",
    "    \n",
    "    Plan:\n",
    "    \n",
    "    people = cols = 2\n",
    "    sims = rows = n\n",
    "    \n",
    "    use np.random.normal(mean, std, size) in a function\n",
    "    \n",
    "    generate random woman height from mean 170 and std 6\n",
    "    \n",
    "    generate random man height from mean 178 and std 8\n",
    "    \n",
    "    "
   ]
  },
  {
   "cell_type": "code",
   "execution_count": 207,
   "metadata": {},
   "outputs": [
    {
     "data": {
      "text/plain": [
       "0.212304"
      ]
     },
     "execution_count": 207,
     "metadata": {},
     "output_type": "execute_result"
    }
   ],
   "source": [
    "# function to find random man and woman height\n",
    "def rand_height(mean, std, sims):\n",
    "    return np.random.normal(mean, std, sims)\n",
    "\n",
    "def f_beats_m(sims):\n",
    "    return (rand_height(170, 6, sims) > rand_height(178, 8, sims)).mean()\n",
    "\n",
    "f_beats_m(1000000)"
   ]
  },
  {
   "cell_type": "code",
   "execution_count": 205,
   "metadata": {},
   "outputs": [],
   "source": [
    "# steps to create the second function\n",
    "# call random woman and man heights \n",
    "# p_fem_beats_male = (rand_height(170, 6, 1000) > rand_height(178, 8, 1000)).mean()\n",
    "# p_fem_beats_male"
   ]
  },
  {
   "cell_type": "markdown",
   "metadata": {},
   "source": [
    "6. When installing anaconda on a student's computer, there's a 1 in 250 chance that the download is corrupted and the installation fails. What are the odds that after having 50 students download anaconda, no one has an installation issue? 100 students?\n",
    "\n",
    "Plan:\n",
    "\n",
    "    generate a random number between 1 and 250 using random.randint(1, 250, (sims))\n",
    "\n",
    "    create a bool where 1 == True which indicates an installation issue\n",
    "\n",
    "    check for a 1 in 50\n",
    "\n",
    "    check for a 1 in 100"
   ]
  },
  {
   "cell_type": "code",
   "execution_count": 247,
   "metadata": {},
   "outputs": [
    {
     "data": {
      "text/plain": [
       "0.04"
      ]
     },
     "execution_count": 247,
     "metadata": {},
     "output_type": "execute_result"
    }
   ],
   "source": [
    "# generate an array from np.random.randint(), the size will me number of sims\n",
    "# the mean() will give the probability\n",
    "\n",
    "sims = 50\n",
    "prob_of_issue = (np.random.randint(1, 251, (sims)) == 1).mean()\n",
    "prob_of_issue"
   ]
  },
  {
   "cell_type": "markdown",
   "metadata": {},
   "source": [
    "What is the probability that we observe an installation issue within the first 150 students that download anaconda?"
   ]
  },
  {
   "cell_type": "code",
   "execution_count": 251,
   "metadata": {},
   "outputs": [
    {
     "data": {
      "text/plain": [
       "0.006666666666666667"
      ]
     },
     "execution_count": 251,
     "metadata": {},
     "output_type": "execute_result"
    }
   ],
   "source": [
    "sims = 150\n",
    "prob_of_issue = (np.random.randint(1, 251, (sims)) == 1).mean()\n",
    "prob_of_issue"
   ]
  },
  {
   "cell_type": "markdown",
   "metadata": {},
   "source": [
    "How likely is it that 450 students all download anaconda without an issue?"
   ]
  },
  {
   "cell_type": "code",
   "execution_count": 252,
   "metadata": {},
   "outputs": [
    {
     "data": {
      "text/plain": [
       "0.011111111111111112"
      ]
     },
     "execution_count": 252,
     "metadata": {},
     "output_type": "execute_result"
    }
   ],
   "source": [
    "sims = 450\n",
    "prob_of_issue = (np.random.randint(1, 251, (sims)) == 1).mean()\n",
    "prob_of_issue"
   ]
  },
  {
   "cell_type": "markdown",
   "metadata": {},
   "source": [
    "7. There's a 70% chance on any given day that there will be at least one food truck at Travis Park. However, you haven't seen a food truck there in 3 days. How unlikely is this?\n",
    "\n",
    "Plan:\n",
    "\n",
    "sims = rows = 10\n",
    "days = cols = 3\n",
    "P(no food truck for 1 day) = .3\n",
    "P(no food truck for 3 days in a row) = .027"
   ]
  },
  {
   "cell_type": "code",
   "execution_count": 456,
   "metadata": {},
   "outputs": [
    {
     "data": {
      "text/plain": [
       "array([[0.06057774, 0.37024424, 0.87511035],\n",
       "       [0.246096  , 0.08719785, 0.62287342],\n",
       "       [0.80524174, 0.19654933, 0.98069304],\n",
       "       ...,\n",
       "       [0.59919814, 0.70570969, 0.85072467],\n",
       "       [0.70494551, 0.71846437, 0.57927791],\n",
       "       [0.99389087, 0.53038173, 0.56241645]])"
      ]
     },
     "execution_count": 456,
     "metadata": {},
     "output_type": "execute_result"
    }
   ],
   "source": [
    "# create data set\n",
    "\n",
    "ndays = ncols = 3\n",
    "sims = nrows = 10000\n",
    "\n",
    "data = np.random.random((sims, ndays))\n",
    "data"
   ]
  },
  {
   "cell_type": "code",
   "execution_count": 464,
   "metadata": {},
   "outputs": [
    {
     "data": {
      "text/plain": [
       "array([[False,  True,  True],\n",
       "       [False, False,  True],\n",
       "       [ True, False,  True],\n",
       "       ...,\n",
       "       [ True,  True,  True],\n",
       "       [ True,  True,  True],\n",
       "       [ True,  True,  True]])"
      ]
     },
     "execution_count": 464,
     "metadata": {},
     "output_type": "execute_result"
    }
   ],
   "source": [
    "p_no_truck = .3\n",
    "truck = data > p_no_truck\n",
    "truck"
   ]
  },
  {
   "cell_type": "code",
   "execution_count": 467,
   "metadata": {},
   "outputs": [
    {
     "data": {
      "text/plain": [
       "0.0294"
      ]
     },
     "execution_count": 467,
     "metadata": {},
     "output_type": "execute_result"
    }
   ],
   "source": [
    "# The probability of no food truck for 3 days in a row\n",
    "prob_no_truck = (truck.sum(axis=1) == 0).mean()"
   ]
  },
  {
   "cell_type": "markdown",
   "metadata": {},
   "source": [
    "How likely is it that a food truck will show up sometime this week?\n",
    "\n"
   ]
  },
  {
   "cell_type": "code",
   "execution_count": 468,
   "metadata": {},
   "outputs": [
    {
     "data": {
      "text/plain": [
       "array([[0.06656096, 0.06403803, 0.48380594, ..., 0.90727134, 0.6734589 ,\n",
       "        0.66520871],\n",
       "       [0.06736501, 0.14697547, 0.71935343, ..., 0.39344575, 0.38236498,\n",
       "        0.91593727],\n",
       "       [0.01042886, 0.14139416, 0.32475743, ..., 0.1569147 , 0.20207263,\n",
       "        0.8466322 ],\n",
       "       ...,\n",
       "       [0.67441744, 0.06571309, 0.57403344, ..., 0.94121842, 0.08481748,\n",
       "        0.13670107],\n",
       "       [0.79025064, 0.21403208, 0.18184221, ..., 0.47364641, 0.27057171,\n",
       "        0.71752207],\n",
       "       [0.5484722 , 0.55364459, 0.61210809, ..., 0.80910569, 0.50840023,\n",
       "        0.22385916]])"
      ]
     },
     "execution_count": 468,
     "metadata": {},
     "output_type": "execute_result"
    }
   ],
   "source": [
    "sims = rows = 10000\n",
    "ndays = cols = 7\n",
    "\n",
    "data = np.random.random((sims, ndays))\n",
    "data"
   ]
  },
  {
   "cell_type": "code",
   "execution_count": 470,
   "metadata": {},
   "outputs": [
    {
     "data": {
      "text/plain": [
       "0.9706"
      ]
     },
     "execution_count": 470,
     "metadata": {},
     "output_type": "execute_result"
    }
   ],
   "source": [
    "# probability of a truck in 7 days\n",
    "prob_truck = (truck.sum(axis=1) >= 1).mean()\n",
    "prob_truck"
   ]
  },
  {
   "cell_type": "markdown",
   "metadata": {},
   "source": [
    "8. If 23 people are in the same room, what are the odds that two of them share a birthday? What if it's 20 people? 40?\n",
    "\n",
    "Plan:\n",
    "\n",
    "sims = rows = people\n",
    "\n",
    "check for a matching number in the generated array\n",
    "\n",
    "365 days in a year   np.random.randint(1, 366)\n",
    "\n"
   ]
  },
  {
   "cell_type": "code",
   "execution_count": 374,
   "metadata": {},
   "outputs": [
    {
     "data": {
      "text/html": [
       "<div>\n",
       "<style scoped>\n",
       "    .dataframe tbody tr th:only-of-type {\n",
       "        vertical-align: middle;\n",
       "    }\n",
       "\n",
       "    .dataframe tbody tr th {\n",
       "        vertical-align: top;\n",
       "    }\n",
       "\n",
       "    .dataframe thead th {\n",
       "        text-align: right;\n",
       "    }\n",
       "</style>\n",
       "<table border=\"1\" class=\"dataframe\">\n",
       "  <thead>\n",
       "    <tr style=\"text-align: right;\">\n",
       "      <th></th>\n",
       "      <th>0</th>\n",
       "      <th>1</th>\n",
       "      <th>2</th>\n",
       "      <th>3</th>\n",
       "      <th>4</th>\n",
       "      <th>5</th>\n",
       "      <th>6</th>\n",
       "      <th>7</th>\n",
       "      <th>8</th>\n",
       "      <th>9</th>\n",
       "      <th>...</th>\n",
       "      <th>13</th>\n",
       "      <th>14</th>\n",
       "      <th>15</th>\n",
       "      <th>16</th>\n",
       "      <th>17</th>\n",
       "      <th>18</th>\n",
       "      <th>19</th>\n",
       "      <th>20</th>\n",
       "      <th>21</th>\n",
       "      <th>22</th>\n",
       "    </tr>\n",
       "  </thead>\n",
       "  <tbody>\n",
       "    <tr>\n",
       "      <th>0</th>\n",
       "      <td>256</td>\n",
       "      <td>64</td>\n",
       "      <td>358</td>\n",
       "      <td>239</td>\n",
       "      <td>148</td>\n",
       "      <td>212</td>\n",
       "      <td>183</td>\n",
       "      <td>216</td>\n",
       "      <td>177</td>\n",
       "      <td>185</td>\n",
       "      <td>...</td>\n",
       "      <td>227</td>\n",
       "      <td>365</td>\n",
       "      <td>150</td>\n",
       "      <td>66</td>\n",
       "      <td>200</td>\n",
       "      <td>62</td>\n",
       "      <td>106</td>\n",
       "      <td>259</td>\n",
       "      <td>230</td>\n",
       "      <td>194</td>\n",
       "    </tr>\n",
       "    <tr>\n",
       "      <th>1</th>\n",
       "      <td>341</td>\n",
       "      <td>224</td>\n",
       "      <td>278</td>\n",
       "      <td>173</td>\n",
       "      <td>357</td>\n",
       "      <td>188</td>\n",
       "      <td>235</td>\n",
       "      <td>222</td>\n",
       "      <td>235</td>\n",
       "      <td>52</td>\n",
       "      <td>...</td>\n",
       "      <td>91</td>\n",
       "      <td>96</td>\n",
       "      <td>31</td>\n",
       "      <td>353</td>\n",
       "      <td>333</td>\n",
       "      <td>286</td>\n",
       "      <td>243</td>\n",
       "      <td>55</td>\n",
       "      <td>129</td>\n",
       "      <td>56</td>\n",
       "    </tr>\n",
       "    <tr>\n",
       "      <th>2</th>\n",
       "      <td>281</td>\n",
       "      <td>23</td>\n",
       "      <td>130</td>\n",
       "      <td>135</td>\n",
       "      <td>257</td>\n",
       "      <td>17</td>\n",
       "      <td>364</td>\n",
       "      <td>156</td>\n",
       "      <td>162</td>\n",
       "      <td>57</td>\n",
       "      <td>...</td>\n",
       "      <td>24</td>\n",
       "      <td>343</td>\n",
       "      <td>74</td>\n",
       "      <td>212</td>\n",
       "      <td>109</td>\n",
       "      <td>324</td>\n",
       "      <td>341</td>\n",
       "      <td>226</td>\n",
       "      <td>70</td>\n",
       "      <td>11</td>\n",
       "    </tr>\n",
       "    <tr>\n",
       "      <th>3</th>\n",
       "      <td>95</td>\n",
       "      <td>178</td>\n",
       "      <td>167</td>\n",
       "      <td>354</td>\n",
       "      <td>184</td>\n",
       "      <td>92</td>\n",
       "      <td>180</td>\n",
       "      <td>182</td>\n",
       "      <td>282</td>\n",
       "      <td>193</td>\n",
       "      <td>...</td>\n",
       "      <td>72</td>\n",
       "      <td>126</td>\n",
       "      <td>103</td>\n",
       "      <td>292</td>\n",
       "      <td>48</td>\n",
       "      <td>244</td>\n",
       "      <td>207</td>\n",
       "      <td>326</td>\n",
       "      <td>247</td>\n",
       "      <td>300</td>\n",
       "    </tr>\n",
       "    <tr>\n",
       "      <th>4</th>\n",
       "      <td>351</td>\n",
       "      <td>238</td>\n",
       "      <td>67</td>\n",
       "      <td>78</td>\n",
       "      <td>285</td>\n",
       "      <td>22</td>\n",
       "      <td>345</td>\n",
       "      <td>73</td>\n",
       "      <td>56</td>\n",
       "      <td>218</td>\n",
       "      <td>...</td>\n",
       "      <td>261</td>\n",
       "      <td>182</td>\n",
       "      <td>313</td>\n",
       "      <td>113</td>\n",
       "      <td>330</td>\n",
       "      <td>35</td>\n",
       "      <td>271</td>\n",
       "      <td>243</td>\n",
       "      <td>345</td>\n",
       "      <td>150</td>\n",
       "    </tr>\n",
       "    <tr>\n",
       "      <th>5</th>\n",
       "      <td>22</td>\n",
       "      <td>169</td>\n",
       "      <td>44</td>\n",
       "      <td>224</td>\n",
       "      <td>269</td>\n",
       "      <td>289</td>\n",
       "      <td>58</td>\n",
       "      <td>329</td>\n",
       "      <td>190</td>\n",
       "      <td>301</td>\n",
       "      <td>...</td>\n",
       "      <td>328</td>\n",
       "      <td>222</td>\n",
       "      <td>103</td>\n",
       "      <td>234</td>\n",
       "      <td>32</td>\n",
       "      <td>117</td>\n",
       "      <td>299</td>\n",
       "      <td>34</td>\n",
       "      <td>78</td>\n",
       "      <td>292</td>\n",
       "    </tr>\n",
       "    <tr>\n",
       "      <th>6</th>\n",
       "      <td>140</td>\n",
       "      <td>356</td>\n",
       "      <td>154</td>\n",
       "      <td>307</td>\n",
       "      <td>217</td>\n",
       "      <td>231</td>\n",
       "      <td>247</td>\n",
       "      <td>32</td>\n",
       "      <td>143</td>\n",
       "      <td>93</td>\n",
       "      <td>...</td>\n",
       "      <td>254</td>\n",
       "      <td>7</td>\n",
       "      <td>196</td>\n",
       "      <td>169</td>\n",
       "      <td>188</td>\n",
       "      <td>13</td>\n",
       "      <td>108</td>\n",
       "      <td>329</td>\n",
       "      <td>311</td>\n",
       "      <td>240</td>\n",
       "    </tr>\n",
       "    <tr>\n",
       "      <th>7</th>\n",
       "      <td>256</td>\n",
       "      <td>157</td>\n",
       "      <td>283</td>\n",
       "      <td>304</td>\n",
       "      <td>302</td>\n",
       "      <td>256</td>\n",
       "      <td>324</td>\n",
       "      <td>114</td>\n",
       "      <td>102</td>\n",
       "      <td>287</td>\n",
       "      <td>...</td>\n",
       "      <td>75</td>\n",
       "      <td>205</td>\n",
       "      <td>168</td>\n",
       "      <td>48</td>\n",
       "      <td>310</td>\n",
       "      <td>77</td>\n",
       "      <td>47</td>\n",
       "      <td>22</td>\n",
       "      <td>230</td>\n",
       "      <td>216</td>\n",
       "    </tr>\n",
       "    <tr>\n",
       "      <th>8</th>\n",
       "      <td>284</td>\n",
       "      <td>278</td>\n",
       "      <td>237</td>\n",
       "      <td>104</td>\n",
       "      <td>60</td>\n",
       "      <td>313</td>\n",
       "      <td>168</td>\n",
       "      <td>159</td>\n",
       "      <td>223</td>\n",
       "      <td>142</td>\n",
       "      <td>...</td>\n",
       "      <td>249</td>\n",
       "      <td>103</td>\n",
       "      <td>13</td>\n",
       "      <td>307</td>\n",
       "      <td>138</td>\n",
       "      <td>12</td>\n",
       "      <td>154</td>\n",
       "      <td>251</td>\n",
       "      <td>253</td>\n",
       "      <td>184</td>\n",
       "    </tr>\n",
       "    <tr>\n",
       "      <th>9</th>\n",
       "      <td>216</td>\n",
       "      <td>274</td>\n",
       "      <td>34</td>\n",
       "      <td>42</td>\n",
       "      <td>222</td>\n",
       "      <td>253</td>\n",
       "      <td>360</td>\n",
       "      <td>5</td>\n",
       "      <td>348</td>\n",
       "      <td>89</td>\n",
       "      <td>...</td>\n",
       "      <td>87</td>\n",
       "      <td>74</td>\n",
       "      <td>284</td>\n",
       "      <td>116</td>\n",
       "      <td>124</td>\n",
       "      <td>267</td>\n",
       "      <td>310</td>\n",
       "      <td>360</td>\n",
       "      <td>229</td>\n",
       "      <td>309</td>\n",
       "    </tr>\n",
       "  </tbody>\n",
       "</table>\n",
       "<p>10 rows × 23 columns</p>\n",
       "</div>"
      ],
      "text/plain": [
       "    0    1    2    3    4    5    6    7    8    9   ...   13   14   15   16  \\\n",
       "0  256   64  358  239  148  212  183  216  177  185  ...  227  365  150   66   \n",
       "1  341  224  278  173  357  188  235  222  235   52  ...   91   96   31  353   \n",
       "2  281   23  130  135  257   17  364  156  162   57  ...   24  343   74  212   \n",
       "3   95  178  167  354  184   92  180  182  282  193  ...   72  126  103  292   \n",
       "4  351  238   67   78  285   22  345   73   56  218  ...  261  182  313  113   \n",
       "5   22  169   44  224  269  289   58  329  190  301  ...  328  222  103  234   \n",
       "6  140  356  154  307  217  231  247   32  143   93  ...  254    7  196  169   \n",
       "7  256  157  283  304  302  256  324  114  102  287  ...   75  205  168   48   \n",
       "8  284  278  237  104   60  313  168  159  223  142  ...  249  103   13  307   \n",
       "9  216  274   34   42  222  253  360    5  348   89  ...   87   74  284  116   \n",
       "\n",
       "    17   18   19   20   21   22  \n",
       "0  200   62  106  259  230  194  \n",
       "1  333  286  243   55  129   56  \n",
       "2  109  324  341  226   70   11  \n",
       "3   48  244  207  326  247  300  \n",
       "4  330   35  271  243  345  150  \n",
       "5   32  117  299   34   78  292  \n",
       "6  188   13  108  329  311  240  \n",
       "7  310   77   47   22  230  216  \n",
       "8  138   12  154  251  253  184  \n",
       "9  124  267  310  360  229  309  \n",
       "\n",
       "[10 rows x 23 columns]"
      ]
     },
     "execution_count": 374,
     "metadata": {},
     "output_type": "execute_result"
    }
   ],
   "source": [
    "# generate a random number between 1 and 365 to represent birthday\n",
    "# rows will be people in group\n",
    "# check for a matching number in the generated array\n",
    "sims = rows = 10\n",
    "people = 23\n",
    "birthdays = np.random.randint(1, 366, (sims, people))\n",
    "birthdays = pd.DataFrame(birthdays)\n",
    "birthdays"
   ]
  },
  {
   "cell_type": "code",
   "execution_count": 410,
   "metadata": {},
   "outputs": [
    {
     "data": {
      "text/plain": [
       "0    [256, 64, 358, 239, 148, 212, 183, 216, 177, 1...\n",
       "1    [341, 224, 278, 173, 357, 188, 235, 222, 52, 7...\n",
       "2    [281, 23, 130, 135, 257, 17, 364, 156, 162, 57...\n",
       "3    [95, 178, 167, 354, 184, 92, 180, 182, 282, 19...\n",
       "4    [351, 238, 67, 78, 285, 22, 345, 73, 56, 218, ...\n",
       "5    [22, 169, 44, 224, 269, 289, 58, 329, 190, 301...\n",
       "6    [140, 356, 154, 307, 217, 231, 247, 32, 143, 9...\n",
       "7    [256, 157, 283, 304, 302, 324, 114, 102, 287, ...\n",
       "8    [284, 278, 237, 104, 60, 313, 168, 159, 223, 1...\n",
       "9    [216, 274, 34, 42, 222, 253, 360, 5, 348, 89, ...\n",
       "dtype: object"
      ]
     },
     "execution_count": 410,
     "metadata": {},
     "output_type": "execute_result"
    }
   ],
   "source": [
    "# find unique numbers in array\n",
    "birthdays.apply(lambda row: row.unique(), axis=1)"
   ]
  },
  {
   "cell_type": "code",
   "execution_count": 408,
   "metadata": {},
   "outputs": [
    {
     "data": {
      "text/plain": [
       "array([  5,   7,  11,  12,  13,  15,  17,  22,  23,  24,  31,  32,  34,\n",
       "        35,  40,  42,  44,  47,  48,  52,  53,  55,  56,  57,  58,  60,\n",
       "        62,  64,  66,  67,  70,  72,  73,  74,  75,  77,  78,  87,  88,\n",
       "        89,  91,  92,  93,  95,  96, 102, 103, 104, 106, 108, 109, 113,\n",
       "       114, 116, 117, 118, 124, 126, 129, 130, 135, 138, 140, 142, 143,\n",
       "       146, 148, 150, 154, 156, 157, 158, 159, 161, 162, 167, 168, 169,\n",
       "       173, 177, 178, 180, 181, 182, 183, 184, 185, 187, 188, 190, 193,\n",
       "       194, 196, 200, 205, 207, 212, 216, 217, 218, 222, 223, 224, 226,\n",
       "       227, 229, 230, 231, 234, 235, 236, 237, 238, 239, 240, 241, 243,\n",
       "       244, 247, 249, 251, 253, 254, 256, 257, 259, 261, 262, 266, 267,\n",
       "       269, 271, 274, 278, 281, 282, 283, 284, 285, 286, 287, 289, 292,\n",
       "       294, 299, 300, 301, 302, 304, 307, 309, 310, 311, 313, 324, 326,\n",
       "       328, 329, 330, 333, 341, 343, 345, 348, 351, 353, 354, 356, 357,\n",
       "       358, 360, 364, 365])"
      ]
     },
     "execution_count": 408,
     "metadata": {},
     "output_type": "execute_result"
    }
   ],
   "source": [
    "# bool array for a repeated number in the return_counts array\n",
    "unique_elements, counts_elements = np.unique(birthdays, return_counts=True)\n",
    "\n",
    "unique_elements\n"
   ]
  },
  {
   "cell_type": "code",
   "execution_count": null,
   "metadata": {},
   "outputs": [],
   "source": []
  },
  {
   "cell_type": "code",
   "execution_count": null,
   "metadata": {},
   "outputs": [],
   "source": []
  },
  {
   "cell_type": "code",
   "execution_count": null,
   "metadata": {},
   "outputs": [],
   "source": []
  },
  {
   "cell_type": "code",
   "execution_count": null,
   "metadata": {},
   "outputs": [],
   "source": []
  },
  {
   "cell_type": "code",
   "execution_count": null,
   "metadata": {},
   "outputs": [],
   "source": []
  },
  {
   "cell_type": "code",
   "execution_count": null,
   "metadata": {},
   "outputs": [],
   "source": []
  }
 ],
 "metadata": {
  "kernelspec": {
   "display_name": "Python 3",
   "language": "python",
   "name": "python3"
  },
  "language_info": {
   "codemirror_mode": {
    "name": "ipython",
    "version": 3
   },
   "file_extension": ".py",
   "mimetype": "text/x-python",
   "name": "python",
   "nbconvert_exporter": "python",
   "pygments_lexer": "ipython3",
   "version": "3.7.3"
  }
 },
 "nbformat": 4,
 "nbformat_minor": 2
}
